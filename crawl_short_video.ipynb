{
  "nbformat": 4,
  "nbformat_minor": 0,
  "metadata": {
    "colab": {
      "provenance": [],
      "authorship_tag": "ABX9TyPD2ka2to+Td/CsT1CAS6uU",
      "include_colab_link": true
    },
    "kernelspec": {
      "name": "python3",
      "display_name": "Python 3"
    },
    "language_info": {
      "name": "python"
    }
  },
  "cells": [
    {
      "cell_type": "markdown",
      "metadata": {
        "id": "view-in-github",
        "colab_type": "text"
      },
      "source": [
        "<a href=\"https://colab.research.google.com/github/shenben/metrics/blob/master/crawl_short_video.ipynb\" target=\"_parent\"><img src=\"https://colab.research.google.com/assets/colab-badge.svg\" alt=\"Open In Colab\"/></a>"
      ]
    },
    {
      "cell_type": "code",
      "source": [
        "!wget https://dl.google.com/linux/direct/google-chrome-stable_current_amd64.deb\n",
        "!sudo apt update\n",
        "!sudo apt install ./google-chrome-stable_current_amd64.deb\n",
        "!wget https://storage.googleapis.com/chrome-for-testing-public/129.0.6668.100/linux64/chromedriver-linux64.zip\n",
        "# https://googlechromelabs.github.io/chrome-for-testing/\n",
        "!unzip chromedriver-linux64.zip\n",
        "!sudo mv chromedriver-linux64/chromedriver /usr/local/bin/\n",
        "!sudo chmod +x /usr/local/bin/chromedriver\n",
        "!chromedriver --version\n"
      ],
      "metadata": {
        "colab": {
          "base_uri": "https://localhost:8080/"
        },
        "id": "J0jd0Jvl3ooL",
        "outputId": "f868c395-56f7-49cd-bc9b-ec1a2b2fb800"
      },
      "execution_count": 2,
      "outputs": [
        {
          "output_type": "stream",
          "name": "stdout",
          "text": [
            "--2024-10-12 09:08:07--  https://dl.google.com/linux/direct/google-chrome-stable_current_amd64.deb\n",
            "Resolving dl.google.com (dl.google.com)... 74.125.26.190, 74.125.26.136, 74.125.26.93, ...\n",
            "Connecting to dl.google.com (dl.google.com)|74.125.26.190|:443... connected.\n",
            "HTTP request sent, awaiting response... 200 OK\n",
            "Length: 110925276 (106M) [application/x-debian-package]\n",
            "Saving to: ‘google-chrome-stable_current_amd64.deb’\n",
            "\n",
            "google-chrome-stabl 100%[===================>] 105.79M   162MB/s    in 0.7s    \n",
            "\n",
            "2024-10-12 09:08:08 (162 MB/s) - ‘google-chrome-stable_current_amd64.deb’ saved [110925276/110925276]\n",
            "\n",
            "Get:1 http://security.ubuntu.com/ubuntu jammy-security InRelease [129 kB]\n",
            "Get:2 https://cloud.r-project.org/bin/linux/ubuntu jammy-cran40/ InRelease [3,626 B]\n",
            "Hit:3 http://archive.ubuntu.com/ubuntu jammy InRelease\n",
            "Get:4 http://archive.ubuntu.com/ubuntu jammy-updates InRelease [128 kB]\n",
            "Hit:5 https://developer.download.nvidia.com/compute/cuda/repos/ubuntu2204/x86_64  InRelease\n",
            "Ign:6 https://r2u.stat.illinois.edu/ubuntu jammy InRelease\n",
            "Get:7 https://r2u.stat.illinois.edu/ubuntu jammy Release [5,713 B]\n",
            "Hit:8 http://archive.ubuntu.com/ubuntu jammy-backports InRelease\n",
            "Get:9 https://r2u.stat.illinois.edu/ubuntu jammy Release.gpg [793 B]\n",
            "Hit:10 https://ppa.launchpadcontent.net/deadsnakes/ppa/ubuntu jammy InRelease\n",
            "Hit:11 https://ppa.launchpadcontent.net/graphics-drivers/ppa/ubuntu jammy InRelease\n",
            "Hit:12 https://ppa.launchpadcontent.net/ubuntugis/ppa/ubuntu jammy InRelease\n",
            "Get:13 http://security.ubuntu.com/ubuntu jammy-security/universe amd64 Packages [1,160 kB]\n",
            "Get:14 http://security.ubuntu.com/ubuntu jammy-security/main amd64 Packages [2,326 kB]\n",
            "Get:15 http://archive.ubuntu.com/ubuntu jammy-updates/main amd64 Packages [2,602 kB]\n",
            "Get:16 http://archive.ubuntu.com/ubuntu jammy-updates/universe amd64 Packages [1,449 kB]\n",
            "Get:17 https://r2u.stat.illinois.edu/ubuntu jammy/main all Packages [8,380 kB]\n",
            "Get:18 https://r2u.stat.illinois.edu/ubuntu jammy/main amd64 Packages [2,594 kB]\n",
            "Fetched 18.8 MB in 4s (5,203 kB/s)\n",
            "Reading package lists... Done\n",
            "Building dependency tree... Done\n",
            "Reading state information... Done\n",
            "51 packages can be upgraded. Run 'apt list --upgradable' to see them.\n",
            "\u001b[1;33mW: \u001b[0mSkipping acquire of configured file 'main/source/Sources' as repository 'https://r2u.stat.illinois.edu/ubuntu jammy InRelease' does not seem to provide it (sources.list entry misspelt?)\u001b[0m\n",
            "Reading package lists... Done\n",
            "Building dependency tree... Done\n",
            "Reading state information... Done\n",
            "Note, selecting 'google-chrome-stable' instead of './google-chrome-stable_current_amd64.deb'\n",
            "The following additional packages will be installed:\n",
            "  libvulkan1 mesa-vulkan-drivers\n",
            "The following NEW packages will be installed:\n",
            "  google-chrome-stable libvulkan1 mesa-vulkan-drivers\n",
            "0 upgraded, 3 newly installed, 0 to remove and 51 not upgraded.\n",
            "Need to get 10.9 MB/122 MB of archives.\n",
            "After this operation, 413 MB of additional disk space will be used.\n",
            "Get:1 http://archive.ubuntu.com/ubuntu jammy/main amd64 libvulkan1 amd64 1.3.204.1-2 [128 kB]\n",
            "Get:2 http://archive.ubuntu.com/ubuntu jammy-updates/main amd64 mesa-vulkan-drivers amd64 23.2.1-1ubuntu3.1~22.04.2 [10.7 MB]\n",
            "Get:3 /content/google-chrome-stable_current_amd64.deb google-chrome-stable amd64 129.0.6668.100-1 [111 MB]\n",
            "Fetched 10.9 MB in 1s (9,526 kB/s)\n",
            "debconf: unable to initialize frontend: Dialog\n",
            "debconf: (No usable dialog-like program is installed, so the dialog based frontend cannot be used. at /usr/share/perl5/Debconf/FrontEnd/Dialog.pm line 78, <> line 3.)\n",
            "debconf: falling back to frontend: Readline\n",
            "debconf: unable to initialize frontend: Readline\n",
            "debconf: (This frontend requires a controlling tty.)\n",
            "debconf: falling back to frontend: Teletype\n",
            "dpkg-preconfigure: unable to re-open stdin: \n",
            "Selecting previously unselected package libvulkan1:amd64.\n",
            "(Reading database ... 123621 files and directories currently installed.)\n",
            "Preparing to unpack .../libvulkan1_1.3.204.1-2_amd64.deb ...\n",
            "Unpacking libvulkan1:amd64 (1.3.204.1-2) ...\n",
            "Selecting previously unselected package google-chrome-stable.\n",
            "Preparing to unpack .../google-chrome-stable_current_amd64.deb ...\n",
            "Unpacking google-chrome-stable (129.0.6668.100-1) ...\n",
            "Selecting previously unselected package mesa-vulkan-drivers:amd64.\n",
            "Preparing to unpack .../mesa-vulkan-drivers_23.2.1-1ubuntu3.1~22.04.2_amd64.deb ...\n",
            "Unpacking mesa-vulkan-drivers:amd64 (23.2.1-1ubuntu3.1~22.04.2) ...\n",
            "Setting up libvulkan1:amd64 (1.3.204.1-2) ...\n",
            "Setting up mesa-vulkan-drivers:amd64 (23.2.1-1ubuntu3.1~22.04.2) ...\n",
            "Setting up google-chrome-stable (129.0.6668.100-1) ...\n",
            "update-alternatives: using /usr/bin/google-chrome-stable to provide /usr/bin/x-www-browser (x-www-browser) in auto mode\n",
            "update-alternatives: using /usr/bin/google-chrome-stable to provide /usr/bin/gnome-www-browser (gnome-www-browser) in auto mode\n",
            "update-alternatives: using /usr/bin/google-chrome-stable to provide /usr/bin/google-chrome (google-chrome) in auto mode\n",
            "Processing triggers for man-db (2.10.2-1) ...\n",
            "Processing triggers for libc-bin (2.35-0ubuntu3.4) ...\n",
            "/sbin/ldconfig.real: /usr/local/lib/libtbbmalloc_proxy.so.2 is not a symbolic link\n",
            "\n",
            "/sbin/ldconfig.real: /usr/local/lib/libtbbbind_2_5.so.3 is not a symbolic link\n",
            "\n",
            "/sbin/ldconfig.real: /usr/local/lib/libur_adapter_opencl.so.0 is not a symbolic link\n",
            "\n",
            "/sbin/ldconfig.real: /usr/local/lib/libtbbmalloc.so.2 is not a symbolic link\n",
            "\n",
            "/sbin/ldconfig.real: /usr/local/lib/libtbbbind_2_0.so.3 is not a symbolic link\n",
            "\n",
            "/sbin/ldconfig.real: /usr/local/lib/libtbb.so.12 is not a symbolic link\n",
            "\n",
            "/sbin/ldconfig.real: /usr/local/lib/libur_adapter_level_zero.so.0 is not a symbolic link\n",
            "\n",
            "/sbin/ldconfig.real: /usr/local/lib/libur_loader.so.0 is not a symbolic link\n",
            "\n",
            "/sbin/ldconfig.real: /usr/local/lib/libtbbbind.so.3 is not a symbolic link\n",
            "\n",
            "--2024-10-12 09:08:40--  https://storage.googleapis.com/chrome-for-testing-public/129.0.6668.100/linux64/chromedriver-linux64.zip\n",
            "Resolving storage.googleapis.com (storage.googleapis.com)... 173.194.215.207, 173.194.216.207, 173.194.217.207, ...\n",
            "Connecting to storage.googleapis.com (storage.googleapis.com)|173.194.215.207|:443... connected.\n",
            "HTTP request sent, awaiting response... 200 OK\n",
            "Length: 9368245 (8.9M) [application/zip]\n",
            "Saving to: ‘chromedriver-linux64.zip.1’\n",
            "\n",
            "chromedriver-linux6 100%[===================>]   8.93M  --.-KB/s    in 0.04s   \n",
            "\n",
            "2024-10-12 09:08:40 (210 MB/s) - ‘chromedriver-linux64.zip.1’ saved [9368245/9368245]\n",
            "\n",
            "Archive:  chromedriver-linux64.zip\n",
            "replace chromedriver-linux64/LICENSE.chromedriver? [y]es, [n]o, [A]ll, [N]one, [r]ename: mv: cannot stat 'chromedriver-linux64/chromedriver': No such file or directory\n",
            "ChromeDriver 129.0.6668.100 (cf58cba358d31ce285c1970a79a9411d0fb381a5-refs/branch-heads/6668@{#1704})\n"
          ]
        }
      ]
    },
    {
      "cell_type": "code",
      "source": [
        "!pip install selenium pytube3 opencv-python youtube-dl yt_dlp\n"
      ],
      "metadata": {
        "colab": {
          "base_uri": "https://localhost:8080/"
        },
        "id": "-ZiLxZ014Pa0",
        "outputId": "522f50a6-cd59-438d-bdca-72154a2f9ad5"
      },
      "execution_count": 7,
      "outputs": [
        {
          "output_type": "stream",
          "name": "stdout",
          "text": [
            "Requirement already satisfied: selenium in /usr/local/lib/python3.10/dist-packages (4.25.0)\n",
            "Requirement already satisfied: pytube3 in /usr/local/lib/python3.10/dist-packages (9.6.4)\n",
            "Requirement already satisfied: opencv-python in /usr/local/lib/python3.10/dist-packages (4.10.0.84)\n",
            "Requirement already satisfied: youtube-dl in /usr/local/lib/python3.10/dist-packages (2021.12.17)\n",
            "Collecting yt_dlp\n",
            "  Downloading yt_dlp-2024.10.7-py3-none-any.whl.metadata (171 kB)\n",
            "\u001b[2K     \u001b[90m━━━━━━━━━━━━━━━━━━━━━━━━━━━━━━━━━━━━━━━━\u001b[0m \u001b[32m171.3/171.3 kB\u001b[0m \u001b[31m3.7 MB/s\u001b[0m eta \u001b[36m0:00:00\u001b[0m\n",
            "\u001b[?25hRequirement already satisfied: urllib3<3,>=1.26 in /usr/local/lib/python3.10/dist-packages (from urllib3[socks]<3,>=1.26->selenium) (2.2.3)\n",
            "Requirement already satisfied: trio~=0.17 in /usr/local/lib/python3.10/dist-packages (from selenium) (0.26.2)\n",
            "Requirement already satisfied: trio-websocket~=0.9 in /usr/local/lib/python3.10/dist-packages (from selenium) (0.11.1)\n",
            "Requirement already satisfied: certifi>=2021.10.8 in /usr/local/lib/python3.10/dist-packages (from selenium) (2024.8.30)\n",
            "Requirement already satisfied: typing_extensions~=4.9 in /usr/local/lib/python3.10/dist-packages (from selenium) (4.12.2)\n",
            "Requirement already satisfied: websocket-client~=1.8 in /usr/local/lib/python3.10/dist-packages (from selenium) (1.8.0)\n",
            "Requirement already satisfied: numpy>=1.21.2 in /usr/local/lib/python3.10/dist-packages (from opencv-python) (1.26.4)\n",
            "Collecting brotli (from yt_dlp)\n",
            "  Downloading Brotli-1.1.0-cp310-cp310-manylinux_2_5_x86_64.manylinux1_x86_64.manylinux_2_12_x86_64.manylinux2010_x86_64.whl.metadata (5.5 kB)\n",
            "Collecting mutagen (from yt_dlp)\n",
            "  Downloading mutagen-1.47.0-py3-none-any.whl.metadata (1.7 kB)\n",
            "Collecting pycryptodomex (from yt_dlp)\n",
            "  Downloading pycryptodomex-3.21.0-cp36-abi3-manylinux_2_17_x86_64.manylinux2014_x86_64.whl.metadata (3.4 kB)\n",
            "Requirement already satisfied: requests<3,>=2.32.2 in /usr/local/lib/python3.10/dist-packages (from yt_dlp) (2.32.3)\n",
            "Collecting websockets>=13.0 (from yt_dlp)\n",
            "  Downloading websockets-13.1-cp310-cp310-manylinux_2_5_x86_64.manylinux1_x86_64.manylinux_2_17_x86_64.manylinux2014_x86_64.whl.metadata (6.8 kB)\n",
            "Requirement already satisfied: charset-normalizer<4,>=2 in /usr/local/lib/python3.10/dist-packages (from requests<3,>=2.32.2->yt_dlp) (3.3.2)\n",
            "Requirement already satisfied: idna<4,>=2.5 in /usr/local/lib/python3.10/dist-packages (from requests<3,>=2.32.2->yt_dlp) (3.10)\n",
            "Requirement already satisfied: attrs>=23.2.0 in /usr/local/lib/python3.10/dist-packages (from trio~=0.17->selenium) (24.2.0)\n",
            "Requirement already satisfied: sortedcontainers in /usr/local/lib/python3.10/dist-packages (from trio~=0.17->selenium) (2.4.0)\n",
            "Requirement already satisfied: outcome in /usr/local/lib/python3.10/dist-packages (from trio~=0.17->selenium) (1.3.0.post0)\n",
            "Requirement already satisfied: sniffio>=1.3.0 in /usr/local/lib/python3.10/dist-packages (from trio~=0.17->selenium) (1.3.1)\n",
            "Requirement already satisfied: exceptiongroup in /usr/local/lib/python3.10/dist-packages (from trio~=0.17->selenium) (1.2.2)\n",
            "Requirement already satisfied: wsproto>=0.14 in /usr/local/lib/python3.10/dist-packages (from trio-websocket~=0.9->selenium) (1.2.0)\n",
            "Requirement already satisfied: pysocks!=1.5.7,<2.0,>=1.5.6 in /usr/local/lib/python3.10/dist-packages (from urllib3[socks]<3,>=1.26->selenium) (1.7.1)\n",
            "Requirement already satisfied: h11<1,>=0.9.0 in /usr/local/lib/python3.10/dist-packages (from wsproto>=0.14->trio-websocket~=0.9->selenium) (0.14.0)\n",
            "Downloading yt_dlp-2024.10.7-py3-none-any.whl (3.1 MB)\n",
            "\u001b[2K   \u001b[90m━━━━━━━━━━━━━━━━━━━━━━━━━━━━━━━━━━━━━━━━\u001b[0m \u001b[32m3.1/3.1 MB\u001b[0m \u001b[31m34.6 MB/s\u001b[0m eta \u001b[36m0:00:00\u001b[0m\n",
            "\u001b[?25hDownloading websockets-13.1-cp310-cp310-manylinux_2_5_x86_64.manylinux1_x86_64.manylinux_2_17_x86_64.manylinux2014_x86_64.whl (164 kB)\n",
            "\u001b[2K   \u001b[90m━━━━━━━━━━━━━━━━━━━━━━━━━━━━━━━━━━━━━━━━\u001b[0m \u001b[32m164.1/164.1 kB\u001b[0m \u001b[31m11.7 MB/s\u001b[0m eta \u001b[36m0:00:00\u001b[0m\n",
            "\u001b[?25hDownloading Brotli-1.1.0-cp310-cp310-manylinux_2_5_x86_64.manylinux1_x86_64.manylinux_2_12_x86_64.manylinux2010_x86_64.whl (3.0 MB)\n",
            "\u001b[2K   \u001b[90m━━━━━━━━━━━━━━━━━━━━━━━━━━━━━━━━━━━━━━━━\u001b[0m \u001b[32m3.0/3.0 MB\u001b[0m \u001b[31m53.3 MB/s\u001b[0m eta \u001b[36m0:00:00\u001b[0m\n",
            "\u001b[?25hDownloading mutagen-1.47.0-py3-none-any.whl (194 kB)\n",
            "\u001b[2K   \u001b[90m━━━━━━━━━━━━━━━━━━━━━━━━━━━━━━━━━━━━━━━━\u001b[0m \u001b[32m194.4/194.4 kB\u001b[0m \u001b[31m13.6 MB/s\u001b[0m eta \u001b[36m0:00:00\u001b[0m\n",
            "\u001b[?25hDownloading pycryptodomex-3.21.0-cp36-abi3-manylinux_2_17_x86_64.manylinux2014_x86_64.whl (2.3 MB)\n",
            "\u001b[2K   \u001b[90m━━━━━━━━━━━━━━━━━━━━━━━━━━━━━━━━━━━━━━━━\u001b[0m \u001b[32m2.3/2.3 MB\u001b[0m \u001b[31m51.6 MB/s\u001b[0m eta \u001b[36m0:00:00\u001b[0m\n",
            "\u001b[?25hInstalling collected packages: brotli, websockets, pycryptodomex, mutagen, yt_dlp\n",
            "Successfully installed brotli-1.1.0 mutagen-1.47.0 pycryptodomex-3.21.0 websockets-13.1 yt_dlp-2024.10.7\n"
          ]
        }
      ]
    },
    {
      "cell_type": "code",
      "source": [
        "from selenium import webdriver\n",
        "from selenium.webdriver.chrome.service import Service\n",
        "from selenium.webdriver.chrome.options import Options\n",
        "\n",
        "# Set Chrome options\n",
        "chrome_options = Options()\n",
        "chrome_options.add_argument('--headless')\n",
        "chrome_options.add_argument('--no-sandbox')\n",
        "chrome_options.add_argument('--disable-dev-shm-usage')\n",
        "\n",
        "# Set path to chromedriver if necessary\n",
        "chrome_service = Service('/usr/local/bin/chromedriver')\n",
        "\n",
        "# Initialize WebDriver\n",
        "driver = webdriver.Chrome(service=chrome_service, options=chrome_options)\n",
        "\n",
        "# Test WebDriver\n",
        "driver.get(\"https://www.google.com\")\n",
        "print(driver.title)\n",
        "driver.quit()\n"
      ],
      "metadata": {
        "colab": {
          "base_uri": "https://localhost:8080/"
        },
        "id": "aT3GOPYu3vVj",
        "outputId": "614f5c8a-5e97-413d-839c-dc24e461e31f"
      },
      "execution_count": 5,
      "outputs": [
        {
          "output_type": "stream",
          "name": "stdout",
          "text": [
            "Google\n"
          ]
        }
      ]
    },
    {
      "cell_type": "code",
      "source": [
        "from selenium import webdriver\n",
        "from selenium.webdriver.common.by import By\n",
        "import yt_dlp\n",
        "import time\n",
        "import os\n",
        "\n",
        "# Configure WebDriver (make sure you have ChromeDriver installed)\n",
        "def setup_driver():\n",
        "    chrome_options = Options()\n",
        "    chrome_options.add_argument('--headless')\n",
        "    chrome_options.add_argument('--no-sandbox')\n",
        "    chrome_options.add_argument('--disable-dev-shm-usage')\n",
        "\n",
        "    # Set path to chromedriver if necessary\n",
        "    chrome_service = Service('/usr/local/bin/chromedriver')\n",
        "\n",
        "    # Initialize WebDriver\n",
        "    driver = webdriver.Chrome(service=chrome_service, options=chrome_options)\n",
        "    return driver\n",
        "\n",
        "# Function to search for videos\n",
        "def search_videos(driver, query):\n",
        "    # driver.get('https://www.youtube.com/results?search_query=' + query)\n",
        "    driver.get('https://www.youtube.com/results?search_query=' + query + '&sp=EgQQARgB')\n",
        "\n",
        "    time.sleep(2)\n",
        "    video_elements = driver.find_elements(By.XPATH, '//a[@id=\"video-title\"]')\n",
        "    video_links = [video.get_attribute('href') for video in video_elements if video.get_attribute('href')]\n",
        "    return video_links[:50]  # Return first 10 video links\n",
        "\n",
        "# # Function to download YouTube videos using yt-dlp\n",
        "# def download_video(url, output_path):\n",
        "#     try:\n",
        "#         ydl_opts = {\n",
        "#             'format': 'best',\n",
        "#             'cookies-from-browser':'chrome',\n",
        "#             'outtmpl': output_path + '/%(title)s.%(ext)s',  # Save with video title\n",
        "#         }\n",
        "#         with yt_dlp.YoutubeDL(ydl_opts) as ydl:\n",
        "#             ydl.download([url])\n",
        "#         return True\n",
        "#     except Exception as e:\n",
        "#         print(f\"Failed to download video {url}: {e}\")\n",
        "#         return False\n",
        "\n",
        "def download_video(urls, output_path):\n",
        "    try:\n",
        "        ydl_opts = {\n",
        "            'format': 'best[ext=mp4]',  # Limit to MP4 format for better compatibility\n",
        "            'cookies-from-browser': 'chrome',\n",
        "            'outtmpl': output_path + '/%(title)s.%(ext)s',\n",
        "            'max-filesize': 50 * 1024 * 1024,  # Max file size 50MB\n",
        "            'postprocessors': [{\n",
        "                'key': 'FFmpegVideoConvertor',\n",
        "                'preferedformat': 'mp4',  # Convert to mp4 if needed\n",
        "            }],\n",
        "            'match-filters': 'duration < 240',  # Only download videos under 4 minutes\n",
        "        }\n",
        "        with yt_dlp.YoutubeDL(ydl_opts) as ydl:\n",
        "            ydl.download(urls)\n",
        "        return True\n",
        "    except Exception as e:\n",
        "        print(f\"Failed to download video {urls}: {e}\")\n",
        "        return False\n",
        "\n",
        "\n",
        "if __name__ == \"__main__\":\n",
        "    # Setup Chrome WebDriver\n",
        "    driver = setup_driver()\n",
        "\n",
        "    # Search for videos based on specific keywords\n",
        "    queries = ['outdoor nature', 'sports activities', 'product unboxing']\n",
        "    all_video_links = []\n",
        "    for query in queries:\n",
        "        all_video_links.extend(search_videos(driver, query))\n",
        "        # break\n",
        "    with open('short_video_urls.txt', 'w') as f:\n",
        "      for line in all_video_links:\n",
        "          f.write(f\"{line}\\n\")\n",
        "\n",
        "    # Download and process videos\n",
        "    output_dir = \"./downloaded_videos\"\n",
        "    if not os.path.exists(output_dir):\n",
        "        os.makedirs(output_dir)\n",
        "\n",
        "    # for video_url in all_video_links:\n",
        "    #     if download_video(video_url, output_dir):\n",
        "    #         print(f\"Video downloaded successfully: {video_url}\")\n",
        "    #     else:\n",
        "    #         print(f\"Skipping unsuitable video {video_url}\")\n",
        "    #     break\n",
        "\n",
        "    driver.quit()\n"
      ],
      "metadata": {
        "id": "foC3sbAn8RWa"
      },
      "execution_count": 8,
      "outputs": []
    },
    {
      "cell_type": "code",
      "source": [
        "with open('short_video_urls.txt', 'r') as f:\n",
        "    urls = [line.strip() for line in f if line.strip()]\n",
        "\n",
        "download_video(urls, \"./downloaded_videos\")\n",
        "# # Download videos in batch\n",
        "# with yt_dlp.YoutubeDL(ydl_opts) as ydl:\n",
        "#     ydl.download(urls)"
      ],
      "metadata": {
        "colab": {
          "base_uri": "https://localhost:8080/"
        },
        "id": "GiKs80_T-MtA",
        "outputId": "d4f352bd-e926-4f46-efc1-5ab7cea52d52"
      },
      "execution_count": 9,
      "outputs": [
        {
          "output_type": "stream",
          "name": "stdout",
          "text": [
            "[youtube] Extracting URL: https://www.youtube.com/shorts/PchDOqEG6xo\n",
            "[youtube] PchDOqEG6xo: Downloading webpage\n"
          ]
        },
        {
          "output_type": "stream",
          "name": "stderr",
          "text": [
            "WARNING: [youtube] unable to extract initial player response; please report this issue on  https://github.com/yt-dlp/yt-dlp/issues?q= , filling out the appropriate issue template. Confirm you are on the latest version using  yt-dlp -U\n"
          ]
        },
        {
          "output_type": "stream",
          "name": "stdout",
          "text": [
            "[youtube] PchDOqEG6xo: Downloading ios player API JSON\n"
          ]
        },
        {
          "output_type": "stream",
          "name": "stderr",
          "text": [
            "WARNING: [youtube] PchDOqEG6xo: Failed to parse JSON (caused by JSONDecodeError(\"Expecting value in '': line 1 column 1 (char 0)\")); please report this issue on  https://github.com/yt-dlp/yt-dlp/issues?q= , filling out the appropriate issue template. Confirm you are on the latest version using  yt-dlp -U\n"
          ]
        },
        {
          "output_type": "stream",
          "name": "stdout",
          "text": [
            "[youtube] PchDOqEG6xo: Downloading iframe API JS\n"
          ]
        },
        {
          "output_type": "stream",
          "name": "stderr",
          "text": [
            "WARNING: [youtube] unable to extract player version; please report this issue on  https://github.com/yt-dlp/yt-dlp/issues?q= , filling out the appropriate issue template. Confirm you are on the latest version using  yt-dlp -U\n"
          ]
        },
        {
          "output_type": "stream",
          "name": "stdout",
          "text": [
            "[youtube] PchDOqEG6xo: Downloading mweb player API JSON\n"
          ]
        },
        {
          "output_type": "stream",
          "name": "stderr",
          "text": [
            "WARNING: [youtube] PchDOqEG6xo: Failed to parse JSON (caused by JSONDecodeError(\"Expecting value in '': line 1 column 1 (char 0)\")); please report this issue on  https://github.com/yt-dlp/yt-dlp/issues?q= , filling out the appropriate issue template. Confirm you are on the latest version using  yt-dlp -U\n",
            "ERROR: [youtube] PchDOqEG6xo: Failed to extract any player response; please report this issue on  https://github.com/yt-dlp/yt-dlp/issues?q= , filling out the appropriate issue template. Confirm you are on the latest version using  yt-dlp -U\n"
          ]
        },
        {
          "output_type": "stream",
          "name": "stdout",
          "text": [
            "Failed to download video ['https://www.youtube.com/shorts/PchDOqEG6xo', 'https://www.youtube.com/shorts/evQcasJrCg8', 'https://www.youtube.com/shorts/77g9cz_X-7Q', 'https://www.youtube.com/shorts/kEzYF7Ac7bw', 'https://www.youtube.com/watch?v=A2CwmzcGXnI&pp=ygUOb3V0ZG9vciBuYXR1cmU%3D', 'https://www.youtube.com/shorts/Z8mJDNcLjYc', 'https://www.youtube.com/shorts/zcBz5oVNSt0', 'https://www.youtube.com/shorts/mSQVwrmc2Vc', 'https://www.youtube.com/watch?v=hmFQqjMF_f0&pp=ygURc3BvcnRzIGFjdGl2aXRpZXM%3D', 'https://www.youtube.com/watch?v=JUpxmE1MuQQ&pp=ygURc3BvcnRzIGFjdGl2aXRpZXM%3D', 'https://www.youtube.com/watch?v=XPo-UkZCDMY&pp=ygURc3BvcnRzIGFjdGl2aXRpZXM%3D', 'https://www.youtube.com/watch?v=ZXnHE1tZQjo&pp=ygURc3BvcnRzIGFjdGl2aXRpZXM%3D', 'https://www.youtube.com/watch?v=ejwItt1rNek&pp=ygURc3BvcnRzIGFjdGl2aXRpZXM%3D', 'https://www.youtube.com/watch?v=u_J5SSybBxE&pp=ygURc3BvcnRzIGFjdGl2aXRpZXM%3D', 'https://www.youtube.com/shorts/katrwpAF4Kk', 'https://www.youtube.com/watch?v=WCYTlVF-djw&pp=ygURc3BvcnRzIGFjdGl2aXRpZXM%3D', 'https://www.youtube.com/watch?v=mooOEpoQffA&pp=ygURc3BvcnRzIGFjdGl2aXRpZXM%3D', 'https://www.youtube.com/watch?v=sxUj4uMNu8g&pp=ygURc3BvcnRzIGFjdGl2aXRpZXM%3D', 'https://www.youtube.com/watch?v=27f0QUUScQ8&pp=ygURc3BvcnRzIGFjdGl2aXRpZXM%3D', 'https://www.youtube.com/watch?v=9zG8ATPLuTM&pp=ygURc3BvcnRzIGFjdGl2aXRpZXM%3D', 'https://www.youtube.com/watch?v=jh_ACOy_3Fc&pp=ygURc3BvcnRzIGFjdGl2aXRpZXM%3D', 'https://www.youtube.com/watch?v=e_-PIeMNdvU&pp=ygURc3BvcnRzIGFjdGl2aXRpZXM%3D', 'https://www.youtube.com/shorts/JASUVK064r4', 'https://www.youtube.com/shorts/Faa2szY337M', 'https://www.youtube.com/shorts/jLniS38GFy8', 'https://www.youtube.com/shorts/zqxBE0Z7QaU', 'https://www.youtube.com/shorts/-k3vOThKKJM', 'https://www.youtube.com/shorts/11azBjKcXzM', 'https://www.youtube.com/shorts/vzH-Ighyxuk', 'https://www.youtube.com/shorts/9KvAlI_XePE', 'https://www.youtube.com/shorts/z5xDl67_Kmc', 'https://www.youtube.com/watch?v=vL1k-qb4RbE&pp=ygUQcHJvZHVjdCB1bmJveGluZw%3D%3D', 'https://www.youtube.com/shorts/Y-0r3B0_U4A', 'https://www.youtube.com/shorts/V-wRuNZEfWs', 'https://www.youtube.com/shorts/1Ni_5PG4S9w', 'https://www.youtube.com/shorts/1djcQeAAhro']: ERROR: [youtube] PchDOqEG6xo: Failed to extract any player response; please report this issue on  https://github.com/yt-dlp/yt-dlp/issues?q= , filling out the appropriate issue template. Confirm you are on the latest version using  yt-dlp -U\n"
          ]
        },
        {
          "output_type": "execute_result",
          "data": {
            "text/plain": [
              "False"
            ]
          },
          "metadata": {},
          "execution_count": 9
        }
      ]
    },
    {
      "cell_type": "code",
      "source": [
        "yt-dlp -f 'bestvideo+bestaudio/best' https://www.youtube.com/watch?v=ipf7ifVSeDU\n"
      ],
      "metadata": {
        "id": "lbcAeIVT_hMi"
      },
      "execution_count": null,
      "outputs": []
    },
    {
      "cell_type": "code",
      "source": [
        "!yt-dlp -f 'bestvideo+bestaudio/best' https://www.youtube.com/watch?v=W86cTIoMv2U"
      ],
      "metadata": {
        "id": "UlnquyN-CGXw"
      },
      "execution_count": null,
      "outputs": []
    },
    {
      "cell_type": "code",
      "source": [
        "!touch video_urls.txt"
      ],
      "metadata": {
        "id": "_pNWGhHs5Wqa"
      },
      "execution_count": null,
      "outputs": []
    },
    {
      "cell_type": "code",
      "source": [
        "import yt_dlp\n",
        "\n",
        "# Options for downloading best video + audio\n",
        "ydl_opts = {\n",
        "    'format': 'bestvideo+bestaudio/best',\n",
        "    'outtmpl': '%(title)s.%(ext)s',\n",
        "    'cookies': '/content/cookies.txt'\n",
        "}\n",
        "# ydl_opts = {\n",
        "#     'format': 'bestvideo+bestaudio/best',\n",
        "#     'outtmpl': 'downloaded_videos/%(title)s.%(ext)s',  # Save with video title\n",
        "#     'merge_output_format': 'mp4',\n",
        "#     'cookies': '/content/cookies.txt'\n",
        "# }\n",
        "\n",
        "# Read URLs from the text file\n",
        "# with open('video_urls.txt', 'r') as f:\n",
        "with open('short_video_urls.txt', 'r') as f:\n",
        "    urls = [line.strip() for line in f if 'watch' in line]\n",
        "    # urls = [video_url.replace('/shorts/', '/watch?v=') for video_url in urls]\n",
        "    # urls = [for k in urls]\n",
        "\n",
        "print(urls)\n",
        "# Download videos in batch\n",
        "with yt_dlp.YoutubeDL(ydl_opts) as ydl:\n",
        "    ydl.download(urls)\n"
      ],
      "metadata": {
        "colab": {
          "base_uri": "https://localhost:8080/",
          "height": 725
        },
        "id": "rqZwPI3d5fBZ",
        "outputId": "4c78bdd9-deec-44cb-b2b4-3d781c07d5ee"
      },
      "execution_count": 27,
      "outputs": [
        {
          "output_type": "stream",
          "name": "stdout",
          "text": [
            "['https://www.youtube.com/watch?v=hmFQqjMF_f0&pp=ygURc3BvcnRzIGFjdGl2aXRpZXM%3D', 'https://www.youtube.com/watch?v=JUpxmE1MuQQ&pp=ygURc3BvcnRzIGFjdGl2aXRpZXM%3D', 'https://www.youtube.com/watch?v=XPo-UkZCDMY&pp=ygURc3BvcnRzIGFjdGl2aXRpZXM%3D', 'https://www.youtube.com/watch?v=ZXnHE1tZQjo&pp=ygURc3BvcnRzIGFjdGl2aXRpZXM%3D', 'https://www.youtube.com/watch?v=ejwItt1rNek&pp=ygURc3BvcnRzIGFjdGl2aXRpZXM%3D', 'https://www.youtube.com/watch?v=u_J5SSybBxE&pp=ygURc3BvcnRzIGFjdGl2aXRpZXM%3D', 'https://www.youtube.com/watch?v=WCYTlVF-djw&pp=ygURc3BvcnRzIGFjdGl2aXRpZXM%3D', 'https://www.youtube.com/watch?v=mooOEpoQffA&pp=ygURc3BvcnRzIGFjdGl2aXRpZXM%3D', 'https://www.youtube.com/watch?v=sxUj4uMNu8g&pp=ygURc3BvcnRzIGFjdGl2aXRpZXM%3D', 'https://www.youtube.com/watch?v=27f0QUUScQ8&pp=ygURc3BvcnRzIGFjdGl2aXRpZXM%3D', 'https://www.youtube.com/watch?v=9zG8ATPLuTM&pp=ygURc3BvcnRzIGFjdGl2aXRpZXM%3D', 'https://www.youtube.com/watch?v=jh_ACOy_3Fc&pp=ygURc3BvcnRzIGFjdGl2aXRpZXM%3D', 'https://www.youtube.com/watch?v=e_-PIeMNdvU&pp=ygURc3BvcnRzIGFjdGl2aXRpZXM%3D', 'https://www.youtube.com/watch?v=vL1k-qb4RbE&pp=ygUQcHJvZHVjdCB1bmJveGluZw%3D%3D']\n",
            "[youtube] Extracting URL: https://www.youtube.com/watch?v=hmFQqjMF_f0&pp=ygURc3BvcnRzIGFjdGl2aXRpZXM%3D\n",
            "[youtube] hmFQqjMF_f0: Downloading webpage\n"
          ]
        },
        {
          "output_type": "stream",
          "name": "stderr",
          "text": [
            "WARNING: [youtube] unable to extract initial player response; please report this issue on  https://github.com/yt-dlp/yt-dlp/issues?q= , filling out the appropriate issue template. Confirm you are on the latest version using  yt-dlp -U\n"
          ]
        },
        {
          "output_type": "stream",
          "name": "stdout",
          "text": [
            "[youtube] hmFQqjMF_f0: Downloading ios player API JSON\n"
          ]
        },
        {
          "output_type": "stream",
          "name": "stderr",
          "text": [
            "WARNING: [youtube] hmFQqjMF_f0: Failed to parse JSON (caused by JSONDecodeError(\"Expecting value in '': line 1 column 1 (char 0)\")); please report this issue on  https://github.com/yt-dlp/yt-dlp/issues?q= , filling out the appropriate issue template. Confirm you are on the latest version using  yt-dlp -U\n"
          ]
        },
        {
          "output_type": "stream",
          "name": "stdout",
          "text": [
            "[youtube] hmFQqjMF_f0: Downloading iframe API JS\n"
          ]
        },
        {
          "output_type": "stream",
          "name": "stderr",
          "text": [
            "WARNING: [youtube] unable to extract player version; please report this issue on  https://github.com/yt-dlp/yt-dlp/issues?q= , filling out the appropriate issue template. Confirm you are on the latest version using  yt-dlp -U\n"
          ]
        },
        {
          "output_type": "stream",
          "name": "stdout",
          "text": [
            "[youtube] hmFQqjMF_f0: Downloading mweb player API JSON\n"
          ]
        },
        {
          "output_type": "stream",
          "name": "stderr",
          "text": [
            "WARNING: [youtube] hmFQqjMF_f0: Failed to parse JSON (caused by JSONDecodeError(\"Expecting value in '': line 1 column 1 (char 0)\")); please report this issue on  https://github.com/yt-dlp/yt-dlp/issues?q= , filling out the appropriate issue template. Confirm you are on the latest version using  yt-dlp -U\n",
            "ERROR: [youtube] hmFQqjMF_f0: Failed to extract any player response; please report this issue on  https://github.com/yt-dlp/yt-dlp/issues?q= , filling out the appropriate issue template. Confirm you are on the latest version using  yt-dlp -U\n"
          ]
        },
        {
          "output_type": "error",
          "ename": "DownloadError",
          "evalue": "ERROR: [youtube] hmFQqjMF_f0: Failed to extract any player response; please report this issue on  https://github.com/yt-dlp/yt-dlp/issues?q= , filling out the appropriate issue template. Confirm you are on the latest version using  yt-dlp -U",
          "traceback": [
            "\u001b[0;31m---------------------------------------------------------------------------\u001b[0m",
            "\u001b[0;31mExtractorError\u001b[0m                            Traceback (most recent call last)",
            "\u001b[0;32m/usr/local/lib/python3.10/dist-packages/yt_dlp/YoutubeDL.py\u001b[0m in \u001b[0;36mwrapper\u001b[0;34m(self, *args, **kwargs)\u001b[0m\n\u001b[1;32m   1625\u001b[0m                 \u001b[0;32mtry\u001b[0m\u001b[0;34m:\u001b[0m\u001b[0;34m\u001b[0m\u001b[0;34m\u001b[0m\u001b[0m\n\u001b[0;32m-> 1626\u001b[0;31m                     \u001b[0;32mreturn\u001b[0m \u001b[0mfunc\u001b[0m\u001b[0;34m(\u001b[0m\u001b[0mself\u001b[0m\u001b[0;34m,\u001b[0m \u001b[0;34m*\u001b[0m\u001b[0margs\u001b[0m\u001b[0;34m,\u001b[0m \u001b[0;34m**\u001b[0m\u001b[0mkwargs\u001b[0m\u001b[0;34m)\u001b[0m\u001b[0;34m\u001b[0m\u001b[0;34m\u001b[0m\u001b[0m\n\u001b[0m\u001b[1;32m   1627\u001b[0m                 \u001b[0;32mexcept\u001b[0m \u001b[0;34m(\u001b[0m\u001b[0mCookieLoadError\u001b[0m\u001b[0;34m,\u001b[0m \u001b[0mDownloadCancelled\u001b[0m\u001b[0;34m,\u001b[0m \u001b[0mLazyList\u001b[0m\u001b[0;34m.\u001b[0m\u001b[0mIndexError\u001b[0m\u001b[0;34m,\u001b[0m \u001b[0mPagedList\u001b[0m\u001b[0;34m.\u001b[0m\u001b[0mIndexError\u001b[0m\u001b[0;34m)\u001b[0m\u001b[0;34m:\u001b[0m\u001b[0;34m\u001b[0m\u001b[0;34m\u001b[0m\u001b[0m\n",
            "\u001b[0;32m/usr/local/lib/python3.10/dist-packages/yt_dlp/YoutubeDL.py\u001b[0m in \u001b[0;36m__extract_info\u001b[0;34m(self, url, ie, download, extra_info, process)\u001b[0m\n\u001b[1;32m   1760\u001b[0m         \u001b[0;32mtry\u001b[0m\u001b[0;34m:\u001b[0m\u001b[0;34m\u001b[0m\u001b[0;34m\u001b[0m\u001b[0m\n\u001b[0;32m-> 1761\u001b[0;31m             \u001b[0mie_result\u001b[0m \u001b[0;34m=\u001b[0m \u001b[0mie\u001b[0m\u001b[0;34m.\u001b[0m\u001b[0mextract\u001b[0m\u001b[0;34m(\u001b[0m\u001b[0murl\u001b[0m\u001b[0;34m)\u001b[0m\u001b[0;34m\u001b[0m\u001b[0;34m\u001b[0m\u001b[0m\n\u001b[0m\u001b[1;32m   1762\u001b[0m         \u001b[0;32mexcept\u001b[0m \u001b[0mUserNotLive\u001b[0m \u001b[0;32mas\u001b[0m \u001b[0me\u001b[0m\u001b[0;34m:\u001b[0m\u001b[0;34m\u001b[0m\u001b[0;34m\u001b[0m\u001b[0m\n",
            "\u001b[0;32m/usr/local/lib/python3.10/dist-packages/yt_dlp/extractor/common.py\u001b[0m in \u001b[0;36mextract\u001b[0;34m(self, url)\u001b[0m\n\u001b[1;32m    740\u001b[0m                         url if self.get_param('verbose') else truncate_string(url, 100, 20)))\n\u001b[0;32m--> 741\u001b[0;31m                     \u001b[0mie_result\u001b[0m \u001b[0;34m=\u001b[0m \u001b[0mself\u001b[0m\u001b[0;34m.\u001b[0m\u001b[0m_real_extract\u001b[0m\u001b[0;34m(\u001b[0m\u001b[0murl\u001b[0m\u001b[0;34m)\u001b[0m\u001b[0;34m\u001b[0m\u001b[0;34m\u001b[0m\u001b[0m\n\u001b[0m\u001b[1;32m    742\u001b[0m                     \u001b[0;32mif\u001b[0m \u001b[0mie_result\u001b[0m \u001b[0;32mis\u001b[0m \u001b[0;32mNone\u001b[0m\u001b[0;34m:\u001b[0m\u001b[0;34m\u001b[0m\u001b[0;34m\u001b[0m\u001b[0m\n",
            "\u001b[0;32m/usr/local/lib/python3.10/dist-packages/yt_dlp/extractor/youtube.py\u001b[0m in \u001b[0;36m_real_extract\u001b[0;34m(self, url)\u001b[0m\n\u001b[1;32m   4364\u001b[0m \u001b[0;34m\u001b[0m\u001b[0m\n\u001b[0;32m-> 4365\u001b[0;31m         \u001b[0mwebpage\u001b[0m\u001b[0;34m,\u001b[0m \u001b[0mmaster_ytcfg\u001b[0m\u001b[0;34m,\u001b[0m \u001b[0mplayer_responses\u001b[0m\u001b[0;34m,\u001b[0m \u001b[0mplayer_url\u001b[0m \u001b[0;34m=\u001b[0m \u001b[0mself\u001b[0m\u001b[0;34m.\u001b[0m\u001b[0m_download_player_responses\u001b[0m\u001b[0;34m(\u001b[0m\u001b[0murl\u001b[0m\u001b[0;34m,\u001b[0m \u001b[0msmuggled_data\u001b[0m\u001b[0;34m,\u001b[0m \u001b[0mvideo_id\u001b[0m\u001b[0;34m,\u001b[0m \u001b[0mwebpage_url\u001b[0m\u001b[0;34m)\u001b[0m\u001b[0;34m\u001b[0m\u001b[0;34m\u001b[0m\u001b[0m\n\u001b[0m\u001b[1;32m   4366\u001b[0m \u001b[0;34m\u001b[0m\u001b[0m\n",
            "\u001b[0;32m/usr/local/lib/python3.10/dist-packages/yt_dlp/extractor/youtube.py\u001b[0m in \u001b[0;36m_download_player_responses\u001b[0;34m(self, url, smuggled_data, video_id, webpage_url)\u001b[0m\n\u001b[1;32m   4328\u001b[0m \u001b[0;34m\u001b[0m\u001b[0m\n\u001b[0;32m-> 4329\u001b[0;31m         player_responses, player_url = self._extract_player_responses(\n\u001b[0m\u001b[1;32m   4330\u001b[0m             \u001b[0mself\u001b[0m\u001b[0;34m.\u001b[0m\u001b[0m_get_requested_clients\u001b[0m\u001b[0;34m(\u001b[0m\u001b[0murl\u001b[0m\u001b[0;34m,\u001b[0m \u001b[0msmuggled_data\u001b[0m\u001b[0;34m)\u001b[0m\u001b[0;34m,\u001b[0m\u001b[0;34m\u001b[0m\u001b[0;34m\u001b[0m\u001b[0m\n",
            "\u001b[0;32m/usr/local/lib/python3.10/dist-packages/yt_dlp/extractor/youtube.py\u001b[0m in \u001b[0;36m_extract_player_responses\u001b[0;34m(self, clients, video_id, webpage, master_ytcfg, smuggled_data)\u001b[0m\n\u001b[1;32m   3987\u001b[0m         \u001b[0;32melif\u001b[0m \u001b[0;32mnot\u001b[0m \u001b[0mprs\u001b[0m\u001b[0;34m:\u001b[0m\u001b[0;34m\u001b[0m\u001b[0;34m\u001b[0m\u001b[0m\n\u001b[0;32m-> 3988\u001b[0;31m             \u001b[0;32mraise\u001b[0m \u001b[0mExtractorError\u001b[0m\u001b[0;34m(\u001b[0m\u001b[0;34m'Failed to extract any player response'\u001b[0m\u001b[0;34m)\u001b[0m\u001b[0;34m\u001b[0m\u001b[0;34m\u001b[0m\u001b[0m\n\u001b[0m\u001b[1;32m   3989\u001b[0m         \u001b[0;32mreturn\u001b[0m \u001b[0mprs\u001b[0m\u001b[0;34m,\u001b[0m \u001b[0mplayer_url\u001b[0m\u001b[0;34m\u001b[0m\u001b[0;34m\u001b[0m\u001b[0m\n",
            "\u001b[0;31mExtractorError\u001b[0m: [youtube] hmFQqjMF_f0: Failed to extract any player response; please report this issue on  https://github.com/yt-dlp/yt-dlp/issues?q= , filling out the appropriate issue template. Confirm you are on the latest version using  yt-dlp -U",
            "\nDuring handling of the above exception, another exception occurred:\n",
            "\u001b[0;31mDownloadError\u001b[0m                             Traceback (most recent call last)",
            "\u001b[0;32m<ipython-input-27-ef4860567adb>\u001b[0m in \u001b[0;36m<cell line: 25>\u001b[0;34m()\u001b[0m\n\u001b[1;32m     24\u001b[0m \u001b[0;31m# Download videos in batch\u001b[0m\u001b[0;34m\u001b[0m\u001b[0;34m\u001b[0m\u001b[0m\n\u001b[1;32m     25\u001b[0m \u001b[0;32mwith\u001b[0m \u001b[0myt_dlp\u001b[0m\u001b[0;34m.\u001b[0m\u001b[0mYoutubeDL\u001b[0m\u001b[0;34m(\u001b[0m\u001b[0mydl_opts\u001b[0m\u001b[0;34m)\u001b[0m \u001b[0;32mas\u001b[0m \u001b[0mydl\u001b[0m\u001b[0;34m:\u001b[0m\u001b[0;34m\u001b[0m\u001b[0;34m\u001b[0m\u001b[0m\n\u001b[0;32m---> 26\u001b[0;31m     \u001b[0mydl\u001b[0m\u001b[0;34m.\u001b[0m\u001b[0mdownload\u001b[0m\u001b[0;34m(\u001b[0m\u001b[0murls\u001b[0m\u001b[0;34m)\u001b[0m\u001b[0;34m\u001b[0m\u001b[0;34m\u001b[0m\u001b[0m\n\u001b[0m",
            "\u001b[0;32m/usr/local/lib/python3.10/dist-packages/yt_dlp/YoutubeDL.py\u001b[0m in \u001b[0;36mdownload\u001b[0;34m(self, url_list)\u001b[0m\n\u001b[1;32m   3607\u001b[0m \u001b[0;34m\u001b[0m\u001b[0m\n\u001b[1;32m   3608\u001b[0m         \u001b[0;32mfor\u001b[0m \u001b[0murl\u001b[0m \u001b[0;32min\u001b[0m \u001b[0murl_list\u001b[0m\u001b[0;34m:\u001b[0m\u001b[0;34m\u001b[0m\u001b[0;34m\u001b[0m\u001b[0m\n\u001b[0;32m-> 3609\u001b[0;31m             self.__download_wrapper(self.extract_info)(\n\u001b[0m\u001b[1;32m   3610\u001b[0m                 url, force_generic_extractor=self.params.get('force_generic_extractor', False))\n\u001b[1;32m   3611\u001b[0m \u001b[0;34m\u001b[0m\u001b[0m\n",
            "\u001b[0;32m/usr/local/lib/python3.10/dist-packages/yt_dlp/YoutubeDL.py\u001b[0m in \u001b[0;36mwrapper\u001b[0;34m(*args, **kwargs)\u001b[0m\n\u001b[1;32m   3580\u001b[0m         \u001b[0;32mdef\u001b[0m \u001b[0mwrapper\u001b[0m\u001b[0;34m(\u001b[0m\u001b[0;34m*\u001b[0m\u001b[0margs\u001b[0m\u001b[0;34m,\u001b[0m \u001b[0;34m**\u001b[0m\u001b[0mkwargs\u001b[0m\u001b[0;34m)\u001b[0m\u001b[0;34m:\u001b[0m\u001b[0;34m\u001b[0m\u001b[0;34m\u001b[0m\u001b[0m\n\u001b[1;32m   3581\u001b[0m             \u001b[0;32mtry\u001b[0m\u001b[0;34m:\u001b[0m\u001b[0;34m\u001b[0m\u001b[0;34m\u001b[0m\u001b[0m\n\u001b[0;32m-> 3582\u001b[0;31m                 \u001b[0mres\u001b[0m \u001b[0;34m=\u001b[0m \u001b[0mfunc\u001b[0m\u001b[0;34m(\u001b[0m\u001b[0;34m*\u001b[0m\u001b[0margs\u001b[0m\u001b[0;34m,\u001b[0m \u001b[0;34m**\u001b[0m\u001b[0mkwargs\u001b[0m\u001b[0;34m)\u001b[0m\u001b[0;34m\u001b[0m\u001b[0;34m\u001b[0m\u001b[0m\n\u001b[0m\u001b[1;32m   3583\u001b[0m             \u001b[0;32mexcept\u001b[0m \u001b[0mCookieLoadError\u001b[0m\u001b[0;34m:\u001b[0m\u001b[0;34m\u001b[0m\u001b[0;34m\u001b[0m\u001b[0m\n\u001b[1;32m   3584\u001b[0m                 \u001b[0;32mraise\u001b[0m\u001b[0;34m\u001b[0m\u001b[0;34m\u001b[0m\u001b[0m\n",
            "\u001b[0;32m/usr/local/lib/python3.10/dist-packages/yt_dlp/YoutubeDL.py\u001b[0m in \u001b[0;36mextract_info\u001b[0;34m(self, url, download, ie_key, extra_info, process, force_generic_extractor)\u001b[0m\n\u001b[1;32m   1613\u001b[0m                     \u001b[0;32mraise\u001b[0m \u001b[0mExistingVideoReached\u001b[0m\u001b[0;34m\u001b[0m\u001b[0;34m\u001b[0m\u001b[0m\n\u001b[1;32m   1614\u001b[0m                 \u001b[0;32mbreak\u001b[0m\u001b[0;34m\u001b[0m\u001b[0;34m\u001b[0m\u001b[0m\n\u001b[0;32m-> 1615\u001b[0;31m             \u001b[0;32mreturn\u001b[0m \u001b[0mself\u001b[0m\u001b[0;34m.\u001b[0m\u001b[0m__extract_info\u001b[0m\u001b[0;34m(\u001b[0m\u001b[0murl\u001b[0m\u001b[0;34m,\u001b[0m \u001b[0mself\u001b[0m\u001b[0;34m.\u001b[0m\u001b[0mget_info_extractor\u001b[0m\u001b[0;34m(\u001b[0m\u001b[0mkey\u001b[0m\u001b[0;34m)\u001b[0m\u001b[0;34m,\u001b[0m \u001b[0mdownload\u001b[0m\u001b[0;34m,\u001b[0m \u001b[0mextra_info\u001b[0m\u001b[0;34m,\u001b[0m \u001b[0mprocess\u001b[0m\u001b[0;34m)\u001b[0m\u001b[0;34m\u001b[0m\u001b[0;34m\u001b[0m\u001b[0m\n\u001b[0m\u001b[1;32m   1616\u001b[0m         \u001b[0;32melse\u001b[0m\u001b[0;34m:\u001b[0m\u001b[0;34m\u001b[0m\u001b[0;34m\u001b[0m\u001b[0m\n\u001b[1;32m   1617\u001b[0m             \u001b[0mextractors_restricted\u001b[0m \u001b[0;34m=\u001b[0m \u001b[0mself\u001b[0m\u001b[0;34m.\u001b[0m\u001b[0mparams\u001b[0m\u001b[0;34m.\u001b[0m\u001b[0mget\u001b[0m\u001b[0;34m(\u001b[0m\u001b[0;34m'allowed_extractors'\u001b[0m\u001b[0;34m)\u001b[0m \u001b[0;32mnot\u001b[0m \u001b[0;32min\u001b[0m \u001b[0;34m(\u001b[0m\u001b[0;32mNone\u001b[0m\u001b[0;34m,\u001b[0m \u001b[0;34m[\u001b[0m\u001b[0;34m'default'\u001b[0m\u001b[0;34m]\u001b[0m\u001b[0;34m)\u001b[0m\u001b[0;34m\u001b[0m\u001b[0;34m\u001b[0m\u001b[0m\n",
            "\u001b[0;32m/usr/local/lib/python3.10/dist-packages/yt_dlp/YoutubeDL.py\u001b[0m in \u001b[0;36mwrapper\u001b[0;34m(self, *args, **kwargs)\u001b[0m\n\u001b[1;32m   1642\u001b[0m                     \u001b[0mself\u001b[0m\u001b[0;34m.\u001b[0m\u001b[0mreport_error\u001b[0m\u001b[0;34m(\u001b[0m\u001b[0mmsg\u001b[0m\u001b[0;34m)\u001b[0m\u001b[0;34m\u001b[0m\u001b[0;34m\u001b[0m\u001b[0m\n\u001b[1;32m   1643\u001b[0m                 \u001b[0;32mexcept\u001b[0m \u001b[0mExtractorError\u001b[0m \u001b[0;32mas\u001b[0m \u001b[0me\u001b[0m\u001b[0;34m:\u001b[0m  \u001b[0;31m# An error we somewhat expected\u001b[0m\u001b[0;34m\u001b[0m\u001b[0;34m\u001b[0m\u001b[0m\n\u001b[0;32m-> 1644\u001b[0;31m                     \u001b[0mself\u001b[0m\u001b[0;34m.\u001b[0m\u001b[0mreport_error\u001b[0m\u001b[0;34m(\u001b[0m\u001b[0mstr\u001b[0m\u001b[0;34m(\u001b[0m\u001b[0me\u001b[0m\u001b[0;34m)\u001b[0m\u001b[0;34m,\u001b[0m \u001b[0me\u001b[0m\u001b[0;34m.\u001b[0m\u001b[0mformat_traceback\u001b[0m\u001b[0;34m(\u001b[0m\u001b[0;34m)\u001b[0m\u001b[0;34m)\u001b[0m\u001b[0;34m\u001b[0m\u001b[0;34m\u001b[0m\u001b[0m\n\u001b[0m\u001b[1;32m   1645\u001b[0m                 \u001b[0;32mexcept\u001b[0m \u001b[0mException\u001b[0m \u001b[0;32mas\u001b[0m \u001b[0me\u001b[0m\u001b[0;34m:\u001b[0m\u001b[0;34m\u001b[0m\u001b[0;34m\u001b[0m\u001b[0m\n\u001b[1;32m   1646\u001b[0m                     \u001b[0;32mif\u001b[0m \u001b[0mself\u001b[0m\u001b[0;34m.\u001b[0m\u001b[0mparams\u001b[0m\u001b[0;34m.\u001b[0m\u001b[0mget\u001b[0m\u001b[0;34m(\u001b[0m\u001b[0;34m'ignoreerrors'\u001b[0m\u001b[0;34m)\u001b[0m\u001b[0;34m:\u001b[0m\u001b[0;34m\u001b[0m\u001b[0;34m\u001b[0m\u001b[0m\n",
            "\u001b[0;32m/usr/local/lib/python3.10/dist-packages/yt_dlp/YoutubeDL.py\u001b[0m in \u001b[0;36mreport_error\u001b[0;34m(self, message, *args, **kwargs)\u001b[0m\n\u001b[1;32m   1090\u001b[0m         \u001b[0;32min\u001b[0m \u001b[0mred\u001b[0m \u001b[0;32mif\u001b[0m \u001b[0mstderr\u001b[0m \u001b[0;32mis\u001b[0m \u001b[0ma\u001b[0m \u001b[0mtty\u001b[0m \u001b[0mfile\u001b[0m\u001b[0;34m.\u001b[0m\u001b[0;34m\u001b[0m\u001b[0;34m\u001b[0m\u001b[0m\n\u001b[1;32m   1091\u001b[0m         \"\"\"\n\u001b[0;32m-> 1092\u001b[0;31m         \u001b[0mself\u001b[0m\u001b[0;34m.\u001b[0m\u001b[0mtrouble\u001b[0m\u001b[0;34m(\u001b[0m\u001b[0;34mf'{self._format_err(\"ERROR:\", self.Styles.ERROR)} {message}'\u001b[0m\u001b[0;34m,\u001b[0m \u001b[0;34m*\u001b[0m\u001b[0margs\u001b[0m\u001b[0;34m,\u001b[0m \u001b[0;34m**\u001b[0m\u001b[0mkwargs\u001b[0m\u001b[0;34m)\u001b[0m\u001b[0;34m\u001b[0m\u001b[0;34m\u001b[0m\u001b[0m\n\u001b[0m\u001b[1;32m   1093\u001b[0m \u001b[0;34m\u001b[0m\u001b[0m\n\u001b[1;32m   1094\u001b[0m     \u001b[0;32mdef\u001b[0m \u001b[0mwrite_debug\u001b[0m\u001b[0;34m(\u001b[0m\u001b[0mself\u001b[0m\u001b[0;34m,\u001b[0m \u001b[0mmessage\u001b[0m\u001b[0;34m,\u001b[0m \u001b[0monly_once\u001b[0m\u001b[0;34m=\u001b[0m\u001b[0;32mFalse\u001b[0m\u001b[0;34m)\u001b[0m\u001b[0;34m:\u001b[0m\u001b[0;34m\u001b[0m\u001b[0;34m\u001b[0m\u001b[0m\n",
            "\u001b[0;32m/usr/local/lib/python3.10/dist-packages/yt_dlp/YoutubeDL.py\u001b[0m in \u001b[0;36mtrouble\u001b[0;34m(self, message, tb, is_error)\u001b[0m\n\u001b[1;32m   1029\u001b[0m             \u001b[0;32melse\u001b[0m\u001b[0;34m:\u001b[0m\u001b[0;34m\u001b[0m\u001b[0;34m\u001b[0m\u001b[0m\n\u001b[1;32m   1030\u001b[0m                 \u001b[0mexc_info\u001b[0m \u001b[0;34m=\u001b[0m \u001b[0msys\u001b[0m\u001b[0;34m.\u001b[0m\u001b[0mexc_info\u001b[0m\u001b[0;34m(\u001b[0m\u001b[0;34m)\u001b[0m\u001b[0;34m\u001b[0m\u001b[0;34m\u001b[0m\u001b[0m\n\u001b[0;32m-> 1031\u001b[0;31m             \u001b[0;32mraise\u001b[0m \u001b[0mDownloadError\u001b[0m\u001b[0;34m(\u001b[0m\u001b[0mmessage\u001b[0m\u001b[0;34m,\u001b[0m \u001b[0mexc_info\u001b[0m\u001b[0;34m)\u001b[0m\u001b[0;34m\u001b[0m\u001b[0;34m\u001b[0m\u001b[0m\n\u001b[0m\u001b[1;32m   1032\u001b[0m         \u001b[0mself\u001b[0m\u001b[0;34m.\u001b[0m\u001b[0m_download_retcode\u001b[0m \u001b[0;34m=\u001b[0m \u001b[0;36m1\u001b[0m\u001b[0;34m\u001b[0m\u001b[0;34m\u001b[0m\u001b[0m\n\u001b[1;32m   1033\u001b[0m \u001b[0;34m\u001b[0m\u001b[0m\n",
            "\u001b[0;31mDownloadError\u001b[0m: ERROR: [youtube] hmFQqjMF_f0: Failed to extract any player response; please report this issue on  https://github.com/yt-dlp/yt-dlp/issues?q= , filling out the appropriate issue template. Confirm you are on the latest version using  yt-dlp -U"
          ]
        }
      ]
    },
    {
      "cell_type": "code",
      "source": [
        "def download_video(url, output_path):\n",
        "    try:\n",
        "        ydl_opts = {\n",
        "            'format': 'best[ext=mp4]',  # Restrict to mp4\n",
        "            'outtmpl': output_path + '/%(title)s.%(ext)s',  # Save with video title\n",
        "            'cookies': './cookies.txt',  # Path to cookies file\n",
        "            'max-filesize': 50 * 1024 * 1024,  # Max 50MB size\n",
        "            'match-filters': 'duration < 240',  # Only videos shorter than 4 minutes\n",
        "        }\n",
        "        with yt_dlp.YoutubeDL(ydl_opts) as ydl:\n",
        "            ydl.download([url])\n",
        "        return True\n",
        "    except Exception as e:\n",
        "        print(f\"Failed to download video {url}: {e}\")\n",
        "        return False\n"
      ],
      "metadata": {
        "id": "JadluAN1CqRl"
      },
      "execution_count": null,
      "outputs": []
    },
    {
      "cell_type": "code",
      "source": [
        "!yt-dlp https://www.youtube.com/shorts/PchDOqEG6xo\n"
      ],
      "metadata": {
        "colab": {
          "base_uri": "https://localhost:8080/"
        },
        "id": "JqzakzNB5grd",
        "outputId": "8061d9d4-e161-4278-9053-f5a1d31d936e"
      },
      "execution_count": 12,
      "outputs": [
        {
          "output_type": "stream",
          "name": "stdout",
          "text": [
            "[youtube] Extracting URL: https://www.youtube.com/shorts/PchDOqEG6xo\n",
            "[youtube] PchDOqEG6xo: Downloading webpage\n",
            "[youtube] PchDOqEG6xo: Downloading ios player API JSON\n",
            "[youtube] PchDOqEG6xo: Downloading mweb player API JSON\n",
            "[youtube] PchDOqEG6xo: Downloading player 2f238d39\n",
            "[youtube] PchDOqEG6xo: Downloading m3u8 information\n",
            "[info] PchDOqEG6xo: Downloading 1 format(s): 303+251\n",
            "[download] Destination: Enjoying outdoors 🌳 #tennessee #outdoor #nature [PchDOqEG6xo].f303.webm\n",
            "\u001b[K[download] 100% of    4.19MiB in \u001b[1;37m00:00:01\u001b[0m at \u001b[0;32m3.51MiB/s\u001b[0m\n",
            "[download] Destination: Enjoying outdoors 🌳 #tennessee #outdoor #nature [PchDOqEG6xo].f251.webm\n",
            "\u001b[K[download] 100% of  245.47KiB in \u001b[1;37m00:00:00\u001b[0m at \u001b[0;32m710.88KiB/s\u001b[0m\n",
            "[Merger] Merging formats into \"Enjoying outdoors 🌳 #tennessee #outdoor #nature [PchDOqEG6xo].webm\"\n",
            "Deleting original file Enjoying outdoors 🌳 #tennessee #outdoor #nature [PchDOqEG6xo].f251.webm (pass -k to keep)\n",
            "Deleting original file Enjoying outdoors 🌳 #tennessee #outdoor #nature [PchDOqEG6xo].f303.webm (pass -k to keep)\n"
          ]
        }
      ]
    },
    {
      "cell_type": "code",
      "source": [
        "!yt-dlp --cookies cookies.txt https://www.youtube.com/watch?v=hmFQqjMF_f0&pp=ygURc3BvcnRzIGFjdGl2aXRpZXM%3D\n"
      ],
      "metadata": {
        "colab": {
          "base_uri": "https://localhost:8080/"
        },
        "id": "9k5nVBZNBWyG",
        "outputId": "c5c14814-76d5-4331-a8e5-f1b9272f11e0"
      },
      "execution_count": 24,
      "outputs": [
        {
          "output_type": "stream",
          "name": "stdout",
          "text": [
            "[youtube] Extracting URL: https://www.youtube.com/watch?v=hmFQqjMF_f0\n",
            "[youtube] hmFQqjMF_f0: Downloading webpage\n",
            "[youtube] hmFQqjMF_f0: Downloading ios player API JSON\n",
            "[youtube] hmFQqjMF_f0: Downloading mweb player API JSON\n",
            "[youtube] hmFQqjMF_f0: Downloading m3u8 information\n",
            "[info] hmFQqjMF_f0: Downloading 1 format(s): 616+251\n",
            "[hlsnative] Downloading m3u8 manifest\n",
            "[hlsnative] Total fragments: 44\n",
            "[download] Destination: How playing sports benefits your body ... and your brain - Leah Lagos and Jaspal Ricky Singh [hmFQqjMF_f0].f616.mp4\n",
            "\u001b[K[download] 100% of   37.30MiB in \u001b[1;37m00:00:05\u001b[0m at \u001b[0;32m6.61MiB/s\u001b[0m\n",
            "[download] Destination: How playing sports benefits your body ... and your brain - Leah Lagos and Jaspal Ricky Singh [hmFQqjMF_f0].f251.webm\n",
            "\u001b[K[download] 100% of    4.00MiB in \u001b[1;37m00:00:00\u001b[0m at \u001b[0;32m20.38MiB/s\u001b[0m\n",
            "[Merger] Merging formats into \"How playing sports benefits your body ... and your brain - Leah Lagos and Jaspal Ricky Singh [hmFQqjMF_f0].webm\"\n",
            "Deleting original file How playing sports benefits your body ... and your brain - Leah Lagos and Jaspal Ricky Singh [hmFQqjMF_f0].f616.mp4 (pass -k to keep)\n",
            "Deleting original file How playing sports benefits your body ... and your brain - Leah Lagos and Jaspal Ricky Singh [hmFQqjMF_f0].f251.webm (pass -k to keep)\n"
          ]
        }
      ]
    },
    {
      "cell_type": "code",
      "source": [
        "import yt_dlp\n",
        "\n",
        "ydl_opts = {\n",
        "    'format': 'bestvideo+bestaudio/best',\n",
        "    'outtmpl': '%(title)s.%(ext)s',\n",
        "    'cookies': './cookies.txt',\n",
        "    'verbose': True,\n",
        "    'dump_single_json': True  # Dumps all information about the video\n",
        "}\n",
        "\n",
        "with yt_dlp.YoutubeDL(ydl_opts) as ydl:\n",
        "    ydl.download(['https://www.youtube.com/watch?v=hmFQqjMF_f0'])\n",
        "\n"
      ],
      "metadata": {
        "colab": {
          "base_uri": "https://localhost:8080/",
          "height": 1000
        },
        "id": "pkeLPCV7JIWx",
        "outputId": "153f9dc7-4e7d-4189-8702-6943362d7d5b"
      },
      "execution_count": 30,
      "outputs": [
        {
          "output_type": "stream",
          "name": "stderr",
          "text": [
            "[debug] Encodings: locale UTF-8, fs utf-8, pref UTF-8, out UTF-8 (No ANSI), error UTF-8 (No ANSI), screen UTF-8 (No ANSI)\n",
            "[debug] yt-dlp version stable@2024.10.07 from yt-dlp/yt-dlp [1a176d874] (pip) API\n",
            "[debug] params: {'format': 'bestvideo+bestaudio/best', 'outtmpl': '%(title)s.%(ext)s', 'cookies': './cookies.txt', 'verbose': True, 'dump_single_json': True, 'compat_opts': set(), 'http_headers': {'User-Agent': 'Mozilla/5.0 (Windows NT 10.0; Win64; x64) AppleWebKit/537.36 (KHTML, like Gecko) Chrome/91.0.4472.106 Safari/537.36', 'Accept': 'text/html,application/xhtml+xml,application/xml;q=0.9,*/*;q=0.8', 'Accept-Language': 'en-us,en;q=0.5', 'Sec-Fetch-Mode': 'navigate'}}\n",
            "[debug] Python 3.10.12 (CPython x86_64 64bit) - Linux-6.1.85+-x86_64-with-glibc2.35 (OpenSSL 3.0.2 15 Mar 2022, glibc 2.35)\n",
            "[debug] exe versions: ffmpeg 4.4.2 (setts), ffprobe 4.4.2\n",
            "[debug] Optional libraries: Cryptodome-3.21.0, brotli-1.1.0, certifi-2024.08.30, mutagen-1.47.0, requests-2.32.3, secretstorage-3.3.1, sqlite3-3.37.2, urllib3-2.2.3, websockets-13.1\n",
            "[debug] Proxy map: {'colab_language_server': '/usr/colab/bin/language_service'}\n",
            "[debug] Request Handlers: urllib, requests, websockets\n",
            "[debug] Loaded 1838 extractors\n"
          ]
        },
        {
          "output_type": "stream",
          "name": "stdout",
          "text": [
            "[youtube] Extracting URL: https://www.youtube.com/watch?v=hmFQqjMF_f0\n",
            "[youtube] hmFQqjMF_f0: Downloading webpage\n"
          ]
        },
        {
          "output_type": "stream",
          "name": "stderr",
          "text": [
            "WARNING: [youtube] unable to extract initial player response; please report this issue on  https://github.com/yt-dlp/yt-dlp/issues?q= , filling out the appropriate issue template. Confirm you are on the latest version using  yt-dlp -U\n"
          ]
        },
        {
          "output_type": "stream",
          "name": "stdout",
          "text": [
            "[youtube] hmFQqjMF_f0: Downloading ios player API JSON\n"
          ]
        },
        {
          "output_type": "stream",
          "name": "stderr",
          "text": [
            "WARNING: [youtube] hmFQqjMF_f0: Failed to parse JSON (caused by JSONDecodeError(\"Expecting value in '': line 1 column 1 (char 0)\")); please report this issue on  https://github.com/yt-dlp/yt-dlp/issues?q= , filling out the appropriate issue template. Confirm you are on the latest version using  yt-dlp -U\n"
          ]
        },
        {
          "output_type": "stream",
          "name": "stdout",
          "text": [
            "[youtube] hmFQqjMF_f0: Downloading iframe API JS\n"
          ]
        },
        {
          "output_type": "stream",
          "name": "stderr",
          "text": [
            "WARNING: [youtube] unable to extract player version; please report this issue on  https://github.com/yt-dlp/yt-dlp/issues?q= , filling out the appropriate issue template. Confirm you are on the latest version using  yt-dlp -U\n"
          ]
        },
        {
          "output_type": "stream",
          "name": "stdout",
          "text": [
            "[youtube] hmFQqjMF_f0: Downloading mweb player API JSON\n"
          ]
        },
        {
          "output_type": "stream",
          "name": "stderr",
          "text": [
            "WARNING: [youtube] hmFQqjMF_f0: Failed to parse JSON (caused by JSONDecodeError(\"Expecting value in '': line 1 column 1 (char 0)\")); please report this issue on  https://github.com/yt-dlp/yt-dlp/issues?q= , filling out the appropriate issue template. Confirm you are on the latest version using  yt-dlp -U\n",
            "ERROR: [youtube] hmFQqjMF_f0: Failed to extract any player response; please report this issue on  https://github.com/yt-dlp/yt-dlp/issues?q= , filling out the appropriate issue template. Confirm you are on the latest version using  yt-dlp -U\n",
            "  File \"/usr/local/lib/python3.10/dist-packages/yt_dlp/extractor/common.py\", line 741, in extract\n",
            "    ie_result = self._real_extract(url)\n",
            "  File \"/usr/local/lib/python3.10/dist-packages/yt_dlp/extractor/youtube.py\", line 4365, in _real_extract\n",
            "    webpage, master_ytcfg, player_responses, player_url = self._download_player_responses(url, smuggled_data, video_id, webpage_url)\n",
            "  File \"/usr/local/lib/python3.10/dist-packages/yt_dlp/extractor/youtube.py\", line 4329, in _download_player_responses\n",
            "    player_responses, player_url = self._extract_player_responses(\n",
            "  File \"/usr/local/lib/python3.10/dist-packages/yt_dlp/extractor/youtube.py\", line 3988, in _extract_player_responses\n",
            "    raise ExtractorError('Failed to extract any player response')\n",
            "\n"
          ]
        },
        {
          "output_type": "error",
          "ename": "DownloadError",
          "evalue": "ERROR: [youtube] hmFQqjMF_f0: Failed to extract any player response; please report this issue on  https://github.com/yt-dlp/yt-dlp/issues?q= , filling out the appropriate issue template. Confirm you are on the latest version using  yt-dlp -U",
          "traceback": [
            "\u001b[0;31m---------------------------------------------------------------------------\u001b[0m",
            "\u001b[0;31mExtractorError\u001b[0m                            Traceback (most recent call last)",
            "\u001b[0;32m/usr/local/lib/python3.10/dist-packages/yt_dlp/YoutubeDL.py\u001b[0m in \u001b[0;36mwrapper\u001b[0;34m(self, *args, **kwargs)\u001b[0m\n\u001b[1;32m   1625\u001b[0m                 \u001b[0;32mtry\u001b[0m\u001b[0;34m:\u001b[0m\u001b[0;34m\u001b[0m\u001b[0;34m\u001b[0m\u001b[0m\n\u001b[0;32m-> 1626\u001b[0;31m                     \u001b[0;32mreturn\u001b[0m \u001b[0mfunc\u001b[0m\u001b[0;34m(\u001b[0m\u001b[0mself\u001b[0m\u001b[0;34m,\u001b[0m \u001b[0;34m*\u001b[0m\u001b[0margs\u001b[0m\u001b[0;34m,\u001b[0m \u001b[0;34m**\u001b[0m\u001b[0mkwargs\u001b[0m\u001b[0;34m)\u001b[0m\u001b[0;34m\u001b[0m\u001b[0;34m\u001b[0m\u001b[0m\n\u001b[0m\u001b[1;32m   1627\u001b[0m                 \u001b[0;32mexcept\u001b[0m \u001b[0;34m(\u001b[0m\u001b[0mCookieLoadError\u001b[0m\u001b[0;34m,\u001b[0m \u001b[0mDownloadCancelled\u001b[0m\u001b[0;34m,\u001b[0m \u001b[0mLazyList\u001b[0m\u001b[0;34m.\u001b[0m\u001b[0mIndexError\u001b[0m\u001b[0;34m,\u001b[0m \u001b[0mPagedList\u001b[0m\u001b[0;34m.\u001b[0m\u001b[0mIndexError\u001b[0m\u001b[0;34m)\u001b[0m\u001b[0;34m:\u001b[0m\u001b[0;34m\u001b[0m\u001b[0;34m\u001b[0m\u001b[0m\n",
            "\u001b[0;32m/usr/local/lib/python3.10/dist-packages/yt_dlp/YoutubeDL.py\u001b[0m in \u001b[0;36m__extract_info\u001b[0;34m(self, url, ie, download, extra_info, process)\u001b[0m\n\u001b[1;32m   1760\u001b[0m         \u001b[0;32mtry\u001b[0m\u001b[0;34m:\u001b[0m\u001b[0;34m\u001b[0m\u001b[0;34m\u001b[0m\u001b[0m\n\u001b[0;32m-> 1761\u001b[0;31m             \u001b[0mie_result\u001b[0m \u001b[0;34m=\u001b[0m \u001b[0mie\u001b[0m\u001b[0;34m.\u001b[0m\u001b[0mextract\u001b[0m\u001b[0;34m(\u001b[0m\u001b[0murl\u001b[0m\u001b[0;34m)\u001b[0m\u001b[0;34m\u001b[0m\u001b[0;34m\u001b[0m\u001b[0m\n\u001b[0m\u001b[1;32m   1762\u001b[0m         \u001b[0;32mexcept\u001b[0m \u001b[0mUserNotLive\u001b[0m \u001b[0;32mas\u001b[0m \u001b[0me\u001b[0m\u001b[0;34m:\u001b[0m\u001b[0;34m\u001b[0m\u001b[0;34m\u001b[0m\u001b[0m\n",
            "\u001b[0;32m/usr/local/lib/python3.10/dist-packages/yt_dlp/extractor/common.py\u001b[0m in \u001b[0;36mextract\u001b[0;34m(self, url)\u001b[0m\n\u001b[1;32m    740\u001b[0m                         url if self.get_param('verbose') else truncate_string(url, 100, 20)))\n\u001b[0;32m--> 741\u001b[0;31m                     \u001b[0mie_result\u001b[0m \u001b[0;34m=\u001b[0m \u001b[0mself\u001b[0m\u001b[0;34m.\u001b[0m\u001b[0m_real_extract\u001b[0m\u001b[0;34m(\u001b[0m\u001b[0murl\u001b[0m\u001b[0;34m)\u001b[0m\u001b[0;34m\u001b[0m\u001b[0;34m\u001b[0m\u001b[0m\n\u001b[0m\u001b[1;32m    742\u001b[0m                     \u001b[0;32mif\u001b[0m \u001b[0mie_result\u001b[0m \u001b[0;32mis\u001b[0m \u001b[0;32mNone\u001b[0m\u001b[0;34m:\u001b[0m\u001b[0;34m\u001b[0m\u001b[0;34m\u001b[0m\u001b[0m\n",
            "\u001b[0;32m/usr/local/lib/python3.10/dist-packages/yt_dlp/extractor/youtube.py\u001b[0m in \u001b[0;36m_real_extract\u001b[0;34m(self, url)\u001b[0m\n\u001b[1;32m   4364\u001b[0m \u001b[0;34m\u001b[0m\u001b[0m\n\u001b[0;32m-> 4365\u001b[0;31m         \u001b[0mwebpage\u001b[0m\u001b[0;34m,\u001b[0m \u001b[0mmaster_ytcfg\u001b[0m\u001b[0;34m,\u001b[0m \u001b[0mplayer_responses\u001b[0m\u001b[0;34m,\u001b[0m \u001b[0mplayer_url\u001b[0m \u001b[0;34m=\u001b[0m \u001b[0mself\u001b[0m\u001b[0;34m.\u001b[0m\u001b[0m_download_player_responses\u001b[0m\u001b[0;34m(\u001b[0m\u001b[0murl\u001b[0m\u001b[0;34m,\u001b[0m \u001b[0msmuggled_data\u001b[0m\u001b[0;34m,\u001b[0m \u001b[0mvideo_id\u001b[0m\u001b[0;34m,\u001b[0m \u001b[0mwebpage_url\u001b[0m\u001b[0;34m)\u001b[0m\u001b[0;34m\u001b[0m\u001b[0;34m\u001b[0m\u001b[0m\n\u001b[0m\u001b[1;32m   4366\u001b[0m \u001b[0;34m\u001b[0m\u001b[0m\n",
            "\u001b[0;32m/usr/local/lib/python3.10/dist-packages/yt_dlp/extractor/youtube.py\u001b[0m in \u001b[0;36m_download_player_responses\u001b[0;34m(self, url, smuggled_data, video_id, webpage_url)\u001b[0m\n\u001b[1;32m   4328\u001b[0m \u001b[0;34m\u001b[0m\u001b[0m\n\u001b[0;32m-> 4329\u001b[0;31m         player_responses, player_url = self._extract_player_responses(\n\u001b[0m\u001b[1;32m   4330\u001b[0m             \u001b[0mself\u001b[0m\u001b[0;34m.\u001b[0m\u001b[0m_get_requested_clients\u001b[0m\u001b[0;34m(\u001b[0m\u001b[0murl\u001b[0m\u001b[0;34m,\u001b[0m \u001b[0msmuggled_data\u001b[0m\u001b[0;34m)\u001b[0m\u001b[0;34m,\u001b[0m\u001b[0;34m\u001b[0m\u001b[0;34m\u001b[0m\u001b[0m\n",
            "\u001b[0;32m/usr/local/lib/python3.10/dist-packages/yt_dlp/extractor/youtube.py\u001b[0m in \u001b[0;36m_extract_player_responses\u001b[0;34m(self, clients, video_id, webpage, master_ytcfg, smuggled_data)\u001b[0m\n\u001b[1;32m   3987\u001b[0m         \u001b[0;32melif\u001b[0m \u001b[0;32mnot\u001b[0m \u001b[0mprs\u001b[0m\u001b[0;34m:\u001b[0m\u001b[0;34m\u001b[0m\u001b[0;34m\u001b[0m\u001b[0m\n\u001b[0;32m-> 3988\u001b[0;31m             \u001b[0;32mraise\u001b[0m \u001b[0mExtractorError\u001b[0m\u001b[0;34m(\u001b[0m\u001b[0;34m'Failed to extract any player response'\u001b[0m\u001b[0;34m)\u001b[0m\u001b[0;34m\u001b[0m\u001b[0;34m\u001b[0m\u001b[0m\n\u001b[0m\u001b[1;32m   3989\u001b[0m         \u001b[0;32mreturn\u001b[0m \u001b[0mprs\u001b[0m\u001b[0;34m,\u001b[0m \u001b[0mplayer_url\u001b[0m\u001b[0;34m\u001b[0m\u001b[0;34m\u001b[0m\u001b[0m\n",
            "\u001b[0;31mExtractorError\u001b[0m: [youtube] hmFQqjMF_f0: Failed to extract any player response; please report this issue on  https://github.com/yt-dlp/yt-dlp/issues?q= , filling out the appropriate issue template. Confirm you are on the latest version using  yt-dlp -U",
            "\nDuring handling of the above exception, another exception occurred:\n",
            "\u001b[0;31mDownloadError\u001b[0m                             Traceback (most recent call last)",
            "\u001b[0;32m<ipython-input-30-9bba2cc81421>\u001b[0m in \u001b[0;36m<cell line: 11>\u001b[0;34m()\u001b[0m\n\u001b[1;32m     10\u001b[0m \u001b[0;34m\u001b[0m\u001b[0m\n\u001b[1;32m     11\u001b[0m \u001b[0;32mwith\u001b[0m \u001b[0myt_dlp\u001b[0m\u001b[0;34m.\u001b[0m\u001b[0mYoutubeDL\u001b[0m\u001b[0;34m(\u001b[0m\u001b[0mydl_opts\u001b[0m\u001b[0;34m)\u001b[0m \u001b[0;32mas\u001b[0m \u001b[0mydl\u001b[0m\u001b[0;34m:\u001b[0m\u001b[0;34m\u001b[0m\u001b[0;34m\u001b[0m\u001b[0m\n\u001b[0;32m---> 12\u001b[0;31m     \u001b[0mydl\u001b[0m\u001b[0;34m.\u001b[0m\u001b[0mdownload\u001b[0m\u001b[0;34m(\u001b[0m\u001b[0;34m[\u001b[0m\u001b[0;34m'https://www.youtube.com/watch?v=hmFQqjMF_f0'\u001b[0m\u001b[0;34m]\u001b[0m\u001b[0;34m)\u001b[0m\u001b[0;34m\u001b[0m\u001b[0;34m\u001b[0m\u001b[0m\n\u001b[0m\u001b[1;32m     13\u001b[0m \u001b[0;34m\u001b[0m\u001b[0m\n",
            "\u001b[0;32m/usr/local/lib/python3.10/dist-packages/yt_dlp/YoutubeDL.py\u001b[0m in \u001b[0;36mdownload\u001b[0;34m(self, url_list)\u001b[0m\n\u001b[1;32m   3607\u001b[0m \u001b[0;34m\u001b[0m\u001b[0m\n\u001b[1;32m   3608\u001b[0m         \u001b[0;32mfor\u001b[0m \u001b[0murl\u001b[0m \u001b[0;32min\u001b[0m \u001b[0murl_list\u001b[0m\u001b[0;34m:\u001b[0m\u001b[0;34m\u001b[0m\u001b[0;34m\u001b[0m\u001b[0m\n\u001b[0;32m-> 3609\u001b[0;31m             self.__download_wrapper(self.extract_info)(\n\u001b[0m\u001b[1;32m   3610\u001b[0m                 url, force_generic_extractor=self.params.get('force_generic_extractor', False))\n\u001b[1;32m   3611\u001b[0m \u001b[0;34m\u001b[0m\u001b[0m\n",
            "\u001b[0;32m/usr/local/lib/python3.10/dist-packages/yt_dlp/YoutubeDL.py\u001b[0m in \u001b[0;36mwrapper\u001b[0;34m(*args, **kwargs)\u001b[0m\n\u001b[1;32m   3580\u001b[0m         \u001b[0;32mdef\u001b[0m \u001b[0mwrapper\u001b[0m\u001b[0;34m(\u001b[0m\u001b[0;34m*\u001b[0m\u001b[0margs\u001b[0m\u001b[0;34m,\u001b[0m \u001b[0;34m**\u001b[0m\u001b[0mkwargs\u001b[0m\u001b[0;34m)\u001b[0m\u001b[0;34m:\u001b[0m\u001b[0;34m\u001b[0m\u001b[0;34m\u001b[0m\u001b[0m\n\u001b[1;32m   3581\u001b[0m             \u001b[0;32mtry\u001b[0m\u001b[0;34m:\u001b[0m\u001b[0;34m\u001b[0m\u001b[0;34m\u001b[0m\u001b[0m\n\u001b[0;32m-> 3582\u001b[0;31m                 \u001b[0mres\u001b[0m \u001b[0;34m=\u001b[0m \u001b[0mfunc\u001b[0m\u001b[0;34m(\u001b[0m\u001b[0;34m*\u001b[0m\u001b[0margs\u001b[0m\u001b[0;34m,\u001b[0m \u001b[0;34m**\u001b[0m\u001b[0mkwargs\u001b[0m\u001b[0;34m)\u001b[0m\u001b[0;34m\u001b[0m\u001b[0;34m\u001b[0m\u001b[0m\n\u001b[0m\u001b[1;32m   3583\u001b[0m             \u001b[0;32mexcept\u001b[0m \u001b[0mCookieLoadError\u001b[0m\u001b[0;34m:\u001b[0m\u001b[0;34m\u001b[0m\u001b[0;34m\u001b[0m\u001b[0m\n\u001b[1;32m   3584\u001b[0m                 \u001b[0;32mraise\u001b[0m\u001b[0;34m\u001b[0m\u001b[0;34m\u001b[0m\u001b[0m\n",
            "\u001b[0;32m/usr/local/lib/python3.10/dist-packages/yt_dlp/YoutubeDL.py\u001b[0m in \u001b[0;36mextract_info\u001b[0;34m(self, url, download, ie_key, extra_info, process, force_generic_extractor)\u001b[0m\n\u001b[1;32m   1613\u001b[0m                     \u001b[0;32mraise\u001b[0m \u001b[0mExistingVideoReached\u001b[0m\u001b[0;34m\u001b[0m\u001b[0;34m\u001b[0m\u001b[0m\n\u001b[1;32m   1614\u001b[0m                 \u001b[0;32mbreak\u001b[0m\u001b[0;34m\u001b[0m\u001b[0;34m\u001b[0m\u001b[0m\n\u001b[0;32m-> 1615\u001b[0;31m             \u001b[0;32mreturn\u001b[0m \u001b[0mself\u001b[0m\u001b[0;34m.\u001b[0m\u001b[0m__extract_info\u001b[0m\u001b[0;34m(\u001b[0m\u001b[0murl\u001b[0m\u001b[0;34m,\u001b[0m \u001b[0mself\u001b[0m\u001b[0;34m.\u001b[0m\u001b[0mget_info_extractor\u001b[0m\u001b[0;34m(\u001b[0m\u001b[0mkey\u001b[0m\u001b[0;34m)\u001b[0m\u001b[0;34m,\u001b[0m \u001b[0mdownload\u001b[0m\u001b[0;34m,\u001b[0m \u001b[0mextra_info\u001b[0m\u001b[0;34m,\u001b[0m \u001b[0mprocess\u001b[0m\u001b[0;34m)\u001b[0m\u001b[0;34m\u001b[0m\u001b[0;34m\u001b[0m\u001b[0m\n\u001b[0m\u001b[1;32m   1616\u001b[0m         \u001b[0;32melse\u001b[0m\u001b[0;34m:\u001b[0m\u001b[0;34m\u001b[0m\u001b[0;34m\u001b[0m\u001b[0m\n\u001b[1;32m   1617\u001b[0m             \u001b[0mextractors_restricted\u001b[0m \u001b[0;34m=\u001b[0m \u001b[0mself\u001b[0m\u001b[0;34m.\u001b[0m\u001b[0mparams\u001b[0m\u001b[0;34m.\u001b[0m\u001b[0mget\u001b[0m\u001b[0;34m(\u001b[0m\u001b[0;34m'allowed_extractors'\u001b[0m\u001b[0;34m)\u001b[0m \u001b[0;32mnot\u001b[0m \u001b[0;32min\u001b[0m \u001b[0;34m(\u001b[0m\u001b[0;32mNone\u001b[0m\u001b[0;34m,\u001b[0m \u001b[0;34m[\u001b[0m\u001b[0;34m'default'\u001b[0m\u001b[0;34m]\u001b[0m\u001b[0;34m)\u001b[0m\u001b[0;34m\u001b[0m\u001b[0;34m\u001b[0m\u001b[0m\n",
            "\u001b[0;32m/usr/local/lib/python3.10/dist-packages/yt_dlp/YoutubeDL.py\u001b[0m in \u001b[0;36mwrapper\u001b[0;34m(self, *args, **kwargs)\u001b[0m\n\u001b[1;32m   1642\u001b[0m                     \u001b[0mself\u001b[0m\u001b[0;34m.\u001b[0m\u001b[0mreport_error\u001b[0m\u001b[0;34m(\u001b[0m\u001b[0mmsg\u001b[0m\u001b[0;34m)\u001b[0m\u001b[0;34m\u001b[0m\u001b[0;34m\u001b[0m\u001b[0m\n\u001b[1;32m   1643\u001b[0m                 \u001b[0;32mexcept\u001b[0m \u001b[0mExtractorError\u001b[0m \u001b[0;32mas\u001b[0m \u001b[0me\u001b[0m\u001b[0;34m:\u001b[0m  \u001b[0;31m# An error we somewhat expected\u001b[0m\u001b[0;34m\u001b[0m\u001b[0;34m\u001b[0m\u001b[0m\n\u001b[0;32m-> 1644\u001b[0;31m                     \u001b[0mself\u001b[0m\u001b[0;34m.\u001b[0m\u001b[0mreport_error\u001b[0m\u001b[0;34m(\u001b[0m\u001b[0mstr\u001b[0m\u001b[0;34m(\u001b[0m\u001b[0me\u001b[0m\u001b[0;34m)\u001b[0m\u001b[0;34m,\u001b[0m \u001b[0me\u001b[0m\u001b[0;34m.\u001b[0m\u001b[0mformat_traceback\u001b[0m\u001b[0;34m(\u001b[0m\u001b[0;34m)\u001b[0m\u001b[0;34m)\u001b[0m\u001b[0;34m\u001b[0m\u001b[0;34m\u001b[0m\u001b[0m\n\u001b[0m\u001b[1;32m   1645\u001b[0m                 \u001b[0;32mexcept\u001b[0m \u001b[0mException\u001b[0m \u001b[0;32mas\u001b[0m \u001b[0me\u001b[0m\u001b[0;34m:\u001b[0m\u001b[0;34m\u001b[0m\u001b[0;34m\u001b[0m\u001b[0m\n\u001b[1;32m   1646\u001b[0m                     \u001b[0;32mif\u001b[0m \u001b[0mself\u001b[0m\u001b[0;34m.\u001b[0m\u001b[0mparams\u001b[0m\u001b[0;34m.\u001b[0m\u001b[0mget\u001b[0m\u001b[0;34m(\u001b[0m\u001b[0;34m'ignoreerrors'\u001b[0m\u001b[0;34m)\u001b[0m\u001b[0;34m:\u001b[0m\u001b[0;34m\u001b[0m\u001b[0;34m\u001b[0m\u001b[0m\n",
            "\u001b[0;32m/usr/local/lib/python3.10/dist-packages/yt_dlp/YoutubeDL.py\u001b[0m in \u001b[0;36mreport_error\u001b[0;34m(self, message, *args, **kwargs)\u001b[0m\n\u001b[1;32m   1090\u001b[0m         \u001b[0;32min\u001b[0m \u001b[0mred\u001b[0m \u001b[0;32mif\u001b[0m \u001b[0mstderr\u001b[0m \u001b[0;32mis\u001b[0m \u001b[0ma\u001b[0m \u001b[0mtty\u001b[0m \u001b[0mfile\u001b[0m\u001b[0;34m.\u001b[0m\u001b[0;34m\u001b[0m\u001b[0;34m\u001b[0m\u001b[0m\n\u001b[1;32m   1091\u001b[0m         \"\"\"\n\u001b[0;32m-> 1092\u001b[0;31m         \u001b[0mself\u001b[0m\u001b[0;34m.\u001b[0m\u001b[0mtrouble\u001b[0m\u001b[0;34m(\u001b[0m\u001b[0;34mf'{self._format_err(\"ERROR:\", self.Styles.ERROR)} {message}'\u001b[0m\u001b[0;34m,\u001b[0m \u001b[0;34m*\u001b[0m\u001b[0margs\u001b[0m\u001b[0;34m,\u001b[0m \u001b[0;34m**\u001b[0m\u001b[0mkwargs\u001b[0m\u001b[0;34m)\u001b[0m\u001b[0;34m\u001b[0m\u001b[0;34m\u001b[0m\u001b[0m\n\u001b[0m\u001b[1;32m   1093\u001b[0m \u001b[0;34m\u001b[0m\u001b[0m\n\u001b[1;32m   1094\u001b[0m     \u001b[0;32mdef\u001b[0m \u001b[0mwrite_debug\u001b[0m\u001b[0;34m(\u001b[0m\u001b[0mself\u001b[0m\u001b[0;34m,\u001b[0m \u001b[0mmessage\u001b[0m\u001b[0;34m,\u001b[0m \u001b[0monly_once\u001b[0m\u001b[0;34m=\u001b[0m\u001b[0;32mFalse\u001b[0m\u001b[0;34m)\u001b[0m\u001b[0;34m:\u001b[0m\u001b[0;34m\u001b[0m\u001b[0;34m\u001b[0m\u001b[0m\n",
            "\u001b[0;32m/usr/local/lib/python3.10/dist-packages/yt_dlp/YoutubeDL.py\u001b[0m in \u001b[0;36mtrouble\u001b[0;34m(self, message, tb, is_error)\u001b[0m\n\u001b[1;32m   1029\u001b[0m             \u001b[0;32melse\u001b[0m\u001b[0;34m:\u001b[0m\u001b[0;34m\u001b[0m\u001b[0;34m\u001b[0m\u001b[0m\n\u001b[1;32m   1030\u001b[0m                 \u001b[0mexc_info\u001b[0m \u001b[0;34m=\u001b[0m \u001b[0msys\u001b[0m\u001b[0;34m.\u001b[0m\u001b[0mexc_info\u001b[0m\u001b[0;34m(\u001b[0m\u001b[0;34m)\u001b[0m\u001b[0;34m\u001b[0m\u001b[0;34m\u001b[0m\u001b[0m\n\u001b[0;32m-> 1031\u001b[0;31m             \u001b[0;32mraise\u001b[0m \u001b[0mDownloadError\u001b[0m\u001b[0;34m(\u001b[0m\u001b[0mmessage\u001b[0m\u001b[0;34m,\u001b[0m \u001b[0mexc_info\u001b[0m\u001b[0;34m)\u001b[0m\u001b[0;34m\u001b[0m\u001b[0;34m\u001b[0m\u001b[0m\n\u001b[0m\u001b[1;32m   1032\u001b[0m         \u001b[0mself\u001b[0m\u001b[0;34m.\u001b[0m\u001b[0m_download_retcode\u001b[0m \u001b[0;34m=\u001b[0m \u001b[0;36m1\u001b[0m\u001b[0;34m\u001b[0m\u001b[0;34m\u001b[0m\u001b[0m\n\u001b[1;32m   1033\u001b[0m \u001b[0;34m\u001b[0m\u001b[0m\n",
            "\u001b[0;31mDownloadError\u001b[0m: ERROR: [youtube] hmFQqjMF_f0: Failed to extract any player response; please report this issue on  https://github.com/yt-dlp/yt-dlp/issues?q= , filling out the appropriate issue template. Confirm you are on the latest version using  yt-dlp -U"
          ]
        }
      ]
    },
    {
      "cell_type": "code",
      "source": [
        "import subprocess\n",
        "\n",
        "def download_video(url):\n",
        "    command = [\n",
        "        'yt-dlp', '--cookies', './cookies.txt', '--format', 'bestvideo+bestaudio/best', url\n",
        "    ]\n",
        "    try:\n",
        "        subprocess.run(command, check=True)\n",
        "        print(f\"Downloaded: {url}\")\n",
        "    except subprocess.CalledProcessError as e:\n",
        "        print(f\"Failed to download {url}: {e}\")\n",
        "\n",
        "# Batch download\n",
        "with open('short_video_urls.txt', 'r') as f:\n",
        "    urls = [line.strip() for line in f]\n",
        "\n",
        "for url in urls:\n",
        "    try:\n",
        "      download_video(url)\n",
        "    except:\n",
        "      print(\"error:\",url)"
      ],
      "metadata": {
        "colab": {
          "base_uri": "https://localhost:8080/"
        },
        "id": "KqfU81vFJiv5",
        "outputId": "b3c6d67a-f030-43e8-e780-d923eb38b98a"
      },
      "execution_count": 31,
      "outputs": [
        {
          "output_type": "stream",
          "name": "stdout",
          "text": [
            "Downloaded: https://www.youtube.com/watch?v=hmFQqjMF_f0&pp=ygURc3BvcnRzIGFjdGl2aXRpZXM%3D\n",
            "Downloaded: https://www.youtube.com/watch?v=JUpxmE1MuQQ&pp=ygURc3BvcnRzIGFjdGl2aXRpZXM%3D\n",
            "Downloaded: https://www.youtube.com/watch?v=XPo-UkZCDMY&pp=ygURc3BvcnRzIGFjdGl2aXRpZXM%3D\n",
            "Downloaded: https://www.youtube.com/watch?v=ZXnHE1tZQjo&pp=ygURc3BvcnRzIGFjdGl2aXRpZXM%3D\n",
            "Downloaded: https://www.youtube.com/watch?v=ejwItt1rNek&pp=ygURc3BvcnRzIGFjdGl2aXRpZXM%3D\n",
            "Downloaded: https://www.youtube.com/watch?v=u_J5SSybBxE&pp=ygURc3BvcnRzIGFjdGl2aXRpZXM%3D\n",
            "Downloaded: https://www.youtube.com/shorts/katrwpAF4Kk\n",
            "Downloaded: https://www.youtube.com/watch?v=WCYTlVF-djw&pp=ygURc3BvcnRzIGFjdGl2aXRpZXM%3D\n",
            "Downloaded: https://www.youtube.com/watch?v=mooOEpoQffA&pp=ygURc3BvcnRzIGFjdGl2aXRpZXM%3D\n",
            "Downloaded: https://www.youtube.com/watch?v=sxUj4uMNu8g&pp=ygURc3BvcnRzIGFjdGl2aXRpZXM%3D\n",
            "Downloaded: https://www.youtube.com/watch?v=27f0QUUScQ8&pp=ygURc3BvcnRzIGFjdGl2aXRpZXM%3D\n",
            "Downloaded: https://www.youtube.com/watch?v=9zG8ATPLuTM&pp=ygURc3BvcnRzIGFjdGl2aXRpZXM%3D\n",
            "Downloaded: https://www.youtube.com/watch?v=jh_ACOy_3Fc&pp=ygURc3BvcnRzIGFjdGl2aXRpZXM%3D\n",
            "Downloaded: https://www.youtube.com/watch?v=e_-PIeMNdvU&pp=ygURc3BvcnRzIGFjdGl2aXRpZXM%3D\n",
            "Downloaded: https://www.youtube.com/shorts/JASUVK064r4\n",
            "Downloaded: https://www.youtube.com/shorts/Faa2szY337M\n",
            "Downloaded: https://www.youtube.com/shorts/jLniS38GFy8\n",
            "Downloaded: https://www.youtube.com/shorts/zqxBE0Z7QaU\n",
            "Downloaded: https://www.youtube.com/shorts/-k3vOThKKJM\n",
            "Downloaded: https://www.youtube.com/shorts/11azBjKcXzM\n",
            "Downloaded: https://www.youtube.com/shorts/vzH-Ighyxuk\n",
            "Downloaded: https://www.youtube.com/shorts/9KvAlI_XePE\n",
            "Downloaded: https://www.youtube.com/shorts/z5xDl67_Kmc\n",
            "Downloaded: https://www.youtube.com/watch?v=vL1k-qb4RbE&pp=ygUQcHJvZHVjdCB1bmJveGluZw%3D%3D\n",
            "Downloaded: https://www.youtube.com/shorts/Y-0r3B0_U4A\n",
            "Downloaded: https://www.youtube.com/shorts/V-wRuNZEfWs\n",
            "Downloaded: https://www.youtube.com/shorts/1Ni_5PG4S9w\n",
            "Downloaded: https://www.youtube.com/shorts/1djcQeAAhro\n"
          ]
        }
      ]
    },
    {
      "cell_type": "code",
      "source": [
        "import os\n",
        "for i in os.listdir('.'):\n",
        "  if i.endswith(\"webm\"):\n",
        "    print(i)"
      ],
      "metadata": {
        "colab": {
          "base_uri": "https://localhost:8080/"
        },
        "id": "L9zTxDNvLGSO",
        "outputId": "12dc437c-e01e-4d09-8853-fd22d68f6ebc"
      },
      "execution_count": 33,
      "outputs": [
        {
          "output_type": "stream",
          "name": "stdout",
          "text": [
            "Packing my mini bag with mini products! #asmr #packingessentials #ulta #packingwithme [1djcQeAAhro].webm\n",
            "UBGoregaon Sports Day 2014-15 Sr.Kg. A - Obstacle Race [ejwItt1rNek].webm\n",
            "Apple Studio Display + M2 Mac mini & accessories! Unboxing ASMR [Faa2szY337M].webm\n",
            "Amazing Sports activities on Cruise Ship ｜ Don't Miss ｜ Cordelia Cruises [sxUj4uMNu8g].webm\n",
            "Sports Song   Educational Children Song   Learning English Sports for Kids [27f0QUUScQ8].webm\n",
            "MacBook Pro 13” Unboxing 🤍 #unboxing #apple #macbook #asmr #aesthetic [1Ni_5PG4S9w].webm\n",
            "Unboxing Cololight B-roll 4K ｜ Sony A7III [vL1k-qb4RbE].webm\n",
            "Sports and Activities - الرياضات والنشاطات ｜ we can 5 وي كان [XPo-UkZCDMY].webm\n",
            "Enjoying outdoors 🌳 #tennessee #outdoor #nature [PchDOqEG6xo].webm\n",
            "🇭🇹NEW  NATIONAL RECORD🇭🇹- 19.17m (62’9”) - 16lbs Shotput [katrwpAF4Kk].webm\n",
            "Games Ideas for Students ｜｜ games for School sports day ｜｜ The wisdom school [jh_ACOy_3Fc].webm\n",
            "unboxing the first samples of my product! 👀 #shorts [z5xDl67_Kmc].webm\n",
            "BRATZ Mini Makeup Unboxing Satisfying Video ASMR! #shorts #asmr [V-wRuNZEfWs].webm\n",
            "I Bought a PLAYSTATION 5 From Temu For $20… #shorts #temu #unboxing #ps5 [vzH-Ighyxuk].webm\n",
            "No equipment Pe Games for primary school ｜ Fun physical education games [e_-PIeMNdvU].webm\n",
            "Meesho product #unboxing #link for comment [9KvAlI_XePE].webm\n",
            "Recreational Games for School ｜ School Games ｜ School Fun Games ｜ Physical Education Class [9zG8ATPLuTM].webm\n",
            "Sports & Activities ｜ A Conversation about Interests [ZXnHE1tZQjo].webm\n",
            "asmr ⧸ Stationery pal unboxing [jLniS38GFy8].webm\n",
            "How playing sports benefits your body ... and your brain - Leah Lagos and Jaspal Ricky Singh [hmFQqjMF_f0].webm\n",
            "Luxury Packaging for your small business #productpackaging #smallbusinesstips [-k3vOThKKJM].webm\n",
            "Recreation Games for Children's...... School level⧸ HARISHEDUCATION [mooOEpoQffA].webm\n",
            "Excellent Pe games and activities for physical education teacher and school [u_J5SSybBxE].webm\n",
            "Sports Song ｜ Do You Like Sports？ ｜ Fun Kids English [WCYTlVF-djw].webm\n",
            "The cheapest item from Chanel #shorts #chanel #unboxing [11azBjKcXzM].webm\n",
            "Sports vocabulary real videos [JUpxmE1MuQQ].webm\n",
            "Wait for the type test! #keyboard #logitech #asmr #unboxing [JASUVK064r4].webm\n",
            "Unboxing a blue HomePod Mini 🦋🐟🚙🐬🥏🧢 #apple #homepodmini #speaker #siri [zqxBE0Z7QaU].webm\n",
            "ASMR ｜ Unboxing First Order From Alibaba [Y-0r3B0_U4A].webm\n"
          ]
        }
      ]
    },
    {
      "cell_type": "code",
      "source": [
        "!sudo apt update && sudo apt install ffmpeg\n",
        "!pip install moviepy"
      ],
      "metadata": {
        "colab": {
          "base_uri": "https://localhost:8080/"
        },
        "id": "KUIzgD_BL7sk",
        "outputId": "3276f7d1-1f3b-49af-b8be-7a3df51742fa"
      },
      "execution_count": 34,
      "outputs": [
        {
          "output_type": "stream",
          "name": "stdout",
          "text": [
            "\u001b[33m\r0% [Working]\u001b[0m\r            \rGet:1 https://dl.google.com/linux/chrome/deb stable InRelease [1,825 B]\n",
            "\u001b[33m\r0% [Waiting for headers] [Waiting for headers] [Connecting to cloud.r-project.o\u001b[0m\u001b[33m\r0% [Waiting for headers] [Waiting for headers] [Connecting to cloud.r-project.o\u001b[0m\r                                                                               \rHit:2 http://archive.ubuntu.com/ubuntu jammy InRelease\n",
            "\u001b[33m\r0% [Waiting for headers] [Waiting for headers] [Connecting to cloud.r-project.o\u001b[0m\r                                                                               \rHit:3 http://security.ubuntu.com/ubuntu jammy-security InRelease\n",
            "\u001b[33m\r0% [Waiting for headers] [Connecting to cloud.r-project.org] [Connecting to r2u\u001b[0m\r                                                                               \rHit:4 http://archive.ubuntu.com/ubuntu jammy-updates InRelease\n",
            "\u001b[33m\r0% [Waiting for headers] [Connected to cloud.r-project.org (108.139.15.85)] [Co\u001b[0m\r                                                                               \rHit:5 http://archive.ubuntu.com/ubuntu jammy-backports InRelease\n",
            "\u001b[33m\r0% [Connected to cloud.r-project.org (108.139.15.85)] [Connected to r2u.stat.il\u001b[0m\r                                                                               \rHit:6 https://developer.download.nvidia.com/compute/cuda/repos/ubuntu2204/x86_64  InRelease\n",
            "Hit:7 https://cloud.r-project.org/bin/linux/ubuntu jammy-cran40/ InRelease\n",
            "Get:8 https://dl.google.com/linux/chrome/deb stable/main amd64 Packages [1,090 B]\n",
            "Ign:9 https://r2u.stat.illinois.edu/ubuntu jammy InRelease\n",
            "Hit:10 https://r2u.stat.illinois.edu/ubuntu jammy Release\n",
            "Hit:11 https://ppa.launchpadcontent.net/deadsnakes/ppa/ubuntu jammy InRelease\n",
            "Hit:12 https://ppa.launchpadcontent.net/graphics-drivers/ppa/ubuntu jammy InRelease\n",
            "Hit:13 https://ppa.launchpadcontent.net/ubuntugis/ppa/ubuntu jammy InRelease\n",
            "Fetched 2,915 B in 2s (1,939 B/s)\n",
            "Reading package lists... Done\n",
            "Building dependency tree... Done\n",
            "Reading state information... Done\n",
            "51 packages can be upgraded. Run 'apt list --upgradable' to see them.\n",
            "\u001b[1;33mW: \u001b[0mSkipping acquire of configured file 'main/source/Sources' as repository 'https://r2u.stat.illinois.edu/ubuntu jammy InRelease' does not seem to provide it (sources.list entry misspelt?)\u001b[0m\n",
            "Reading package lists... Done\n",
            "Building dependency tree... Done\n",
            "Reading state information... Done\n",
            "ffmpeg is already the newest version (7:4.4.2-0ubuntu0.22.04.1).\n",
            "0 upgraded, 0 newly installed, 0 to remove and 51 not upgraded.\n",
            "Requirement already satisfied: moviepy in /usr/local/lib/python3.10/dist-packages (1.0.3)\n",
            "Requirement already satisfied: decorator<5.0,>=4.0.2 in /usr/local/lib/python3.10/dist-packages (from moviepy) (4.4.2)\n",
            "Requirement already satisfied: tqdm<5.0,>=4.11.2 in /usr/local/lib/python3.10/dist-packages (from moviepy) (4.66.5)\n",
            "Requirement already satisfied: requests<3.0,>=2.8.1 in /usr/local/lib/python3.10/dist-packages (from moviepy) (2.32.3)\n",
            "Requirement already satisfied: proglog<=1.0.0 in /usr/local/lib/python3.10/dist-packages (from moviepy) (0.1.10)\n",
            "Requirement already satisfied: numpy>=1.17.3 in /usr/local/lib/python3.10/dist-packages (from moviepy) (1.26.4)\n",
            "Requirement already satisfied: imageio<3.0,>=2.5 in /usr/local/lib/python3.10/dist-packages (from moviepy) (2.35.1)\n",
            "Requirement already satisfied: imageio-ffmpeg>=0.2.0 in /usr/local/lib/python3.10/dist-packages (from moviepy) (0.5.1)\n",
            "Requirement already satisfied: pillow>=8.3.2 in /usr/local/lib/python3.10/dist-packages (from imageio<3.0,>=2.5->moviepy) (10.4.0)\n",
            "Requirement already satisfied: setuptools in /usr/local/lib/python3.10/dist-packages (from imageio-ffmpeg>=0.2.0->moviepy) (71.0.4)\n",
            "Requirement already satisfied: charset-normalizer<4,>=2 in /usr/local/lib/python3.10/dist-packages (from requests<3.0,>=2.8.1->moviepy) (3.3.2)\n",
            "Requirement already satisfied: idna<4,>=2.5 in /usr/local/lib/python3.10/dist-packages (from requests<3.0,>=2.8.1->moviepy) (3.10)\n",
            "Requirement already satisfied: urllib3<3,>=1.21.1 in /usr/local/lib/python3.10/dist-packages (from requests<3.0,>=2.8.1->moviepy) (2.2.3)\n",
            "Requirement already satisfied: certifi>=2017.4.17 in /usr/local/lib/python3.10/dist-packages (from requests<3.0,>=2.8.1->moviepy) (2024.8.30)\n"
          ]
        }
      ]
    },
    {
      "cell_type": "code",
      "source": [
        "import os\n",
        "import subprocess\n",
        "from moviepy.editor import VideoFileClip\n",
        "import pandas as pd\n",
        "\n",
        "# Directory containing downloaded videos\n",
        "VIDEO_DIR = '.'\n",
        "\n",
        "# Convert all .webm videos to .mp4\n",
        "def convert_webm_to_mp4():\n",
        "    for filename in os.listdir(VIDEO_DIR):\n",
        "        if filename.endswith('.webm'):\n",
        "            input_path = os.path.join(VIDEO_DIR, filename)\n",
        "            output_path = os.path.join(VIDEO_DIR, filename.replace('.webm', '.mp4'))\n",
        "\n",
        "            # Run ffmpeg command to convert video\n",
        "            command = ['ffmpeg', '-i', input_path, '-c:v', 'copy', '-c:a', 'aac', output_path]\n",
        "            subprocess.run(command, check=True)\n",
        "            print(f\"Converted {filename} to {output_path}\")\n",
        "\n",
        "# Analyze video duration and resolution\n",
        "def analyze_videos():\n",
        "    video_data = []\n",
        "\n",
        "    for filename in os.listdir(VIDEO_DIR):\n",
        "        if filename.endswith('.mp4'):\n",
        "            video_path = os.path.join(VIDEO_DIR, filename)\n",
        "\n",
        "            # Get video duration and resolution\n",
        "            try:\n",
        "                clip = VideoFileClip(video_path)\n",
        "                duration = clip.duration  # Duration in seconds\n",
        "                resolution = f\"{clip.size[0]}x{clip.size[1]}\"  # Width x Height\n",
        "                clip.close()\n",
        "\n",
        "                video_data.append({\n",
        "                    'Filename': filename,\n",
        "                    'Duration (s)': round(duration, 2),\n",
        "                    'Resolution': resolution\n",
        "                })\n",
        "\n",
        "            except Exception as e:\n",
        "                print(f\"Error processing {filename}: {e}\")\n",
        "\n",
        "    # Create a DataFrame and save the analysis as a CSV report\n",
        "    df = pd.DataFrame(video_data)\n",
        "    report_path = 'video_analysis_report.csv'\n",
        "    df.to_csv(report_path, index=False)\n",
        "    print(f\"Analysis report saved to {report_path}\")\n",
        "\n",
        "if __name__ == '__main__':\n",
        "    # Convert videos and analyze them\n",
        "    convert_webm_to_mp4()\n",
        "    analyze_videos()\n"
      ],
      "metadata": {
        "colab": {
          "base_uri": "https://localhost:8080/"
        },
        "id": "Xc4eRMrJMKaW",
        "outputId": "02ad8a4c-28e7-48df-fbff-8bb4048e9df5"
      },
      "execution_count": 35,
      "outputs": [
        {
          "output_type": "stream",
          "name": "stdout",
          "text": [
            "Converted Packing my mini bag with mini products! #asmr #packingessentials #ulta #packingwithme [1djcQeAAhro].webm to ./Packing my mini bag with mini products! #asmr #packingessentials #ulta #packingwithme [1djcQeAAhro].mp4\n",
            "Converted UBGoregaon Sports Day 2014-15 Sr.Kg. A - Obstacle Race [ejwItt1rNek].webm to ./UBGoregaon Sports Day 2014-15 Sr.Kg. A - Obstacle Race [ejwItt1rNek].mp4\n",
            "Converted Apple Studio Display + M2 Mac mini & accessories! Unboxing ASMR [Faa2szY337M].webm to ./Apple Studio Display + M2 Mac mini & accessories! Unboxing ASMR [Faa2szY337M].mp4\n",
            "Converted Amazing Sports activities on Cruise Ship ｜ Don't Miss ｜ Cordelia Cruises [sxUj4uMNu8g].webm to ./Amazing Sports activities on Cruise Ship ｜ Don't Miss ｜ Cordelia Cruises [sxUj4uMNu8g].mp4\n",
            "Converted Sports Song   Educational Children Song   Learning English Sports for Kids [27f0QUUScQ8].webm to ./Sports Song   Educational Children Song   Learning English Sports for Kids [27f0QUUScQ8].mp4\n",
            "Converted MacBook Pro 13” Unboxing 🤍 #unboxing #apple #macbook #asmr #aesthetic [1Ni_5PG4S9w].webm to ./MacBook Pro 13” Unboxing 🤍 #unboxing #apple #macbook #asmr #aesthetic [1Ni_5PG4S9w].mp4\n",
            "Converted Unboxing Cololight B-roll 4K ｜ Sony A7III [vL1k-qb4RbE].webm to ./Unboxing Cololight B-roll 4K ｜ Sony A7III [vL1k-qb4RbE].mp4\n",
            "Converted Sports and Activities - الرياضات والنشاطات ｜ we can 5 وي كان [XPo-UkZCDMY].webm to ./Sports and Activities - الرياضات والنشاطات ｜ we can 5 وي كان [XPo-UkZCDMY].mp4\n",
            "Converted Enjoying outdoors 🌳 #tennessee #outdoor #nature [PchDOqEG6xo].webm to ./Enjoying outdoors 🌳 #tennessee #outdoor #nature [PchDOqEG6xo].mp4\n",
            "Converted 🇭🇹NEW  NATIONAL RECORD🇭🇹- 19.17m (62’9”) - 16lbs Shotput [katrwpAF4Kk].webm to ./🇭🇹NEW  NATIONAL RECORD🇭🇹- 19.17m (62’9”) - 16lbs Shotput [katrwpAF4Kk].mp4\n",
            "Converted Games Ideas for Students ｜｜ games for School sports day ｜｜ The wisdom school [jh_ACOy_3Fc].webm to ./Games Ideas for Students ｜｜ games for School sports day ｜｜ The wisdom school [jh_ACOy_3Fc].mp4\n",
            "Converted unboxing the first samples of my product! 👀 #shorts [z5xDl67_Kmc].webm to ./unboxing the first samples of my product! 👀 #shorts [z5xDl67_Kmc].mp4\n",
            "Converted BRATZ Mini Makeup Unboxing Satisfying Video ASMR! #shorts #asmr [V-wRuNZEfWs].webm to ./BRATZ Mini Makeup Unboxing Satisfying Video ASMR! #shorts #asmr [V-wRuNZEfWs].mp4\n",
            "Converted I Bought a PLAYSTATION 5 From Temu For $20… #shorts #temu #unboxing #ps5 [vzH-Ighyxuk].webm to ./I Bought a PLAYSTATION 5 From Temu For $20… #shorts #temu #unboxing #ps5 [vzH-Ighyxuk].mp4\n",
            "Converted No equipment Pe Games for primary school ｜ Fun physical education games [e_-PIeMNdvU].webm to ./No equipment Pe Games for primary school ｜ Fun physical education games [e_-PIeMNdvU].mp4\n",
            "Converted Meesho product #unboxing #link for comment [9KvAlI_XePE].webm to ./Meesho product #unboxing #link for comment [9KvAlI_XePE].mp4\n",
            "Converted Recreational Games for School ｜ School Games ｜ School Fun Games ｜ Physical Education Class [9zG8ATPLuTM].webm to ./Recreational Games for School ｜ School Games ｜ School Fun Games ｜ Physical Education Class [9zG8ATPLuTM].mp4\n",
            "Converted Sports & Activities ｜ A Conversation about Interests [ZXnHE1tZQjo].webm to ./Sports & Activities ｜ A Conversation about Interests [ZXnHE1tZQjo].mp4\n",
            "Converted asmr ⧸ Stationery pal unboxing [jLniS38GFy8].webm to ./asmr ⧸ Stationery pal unboxing [jLniS38GFy8].mp4\n",
            "Converted How playing sports benefits your body ... and your brain - Leah Lagos and Jaspal Ricky Singh [hmFQqjMF_f0].webm to ./How playing sports benefits your body ... and your brain - Leah Lagos and Jaspal Ricky Singh [hmFQqjMF_f0].mp4\n",
            "Converted Luxury Packaging for your small business #productpackaging #smallbusinesstips [-k3vOThKKJM].webm to ./Luxury Packaging for your small business #productpackaging #smallbusinesstips [-k3vOThKKJM].mp4\n",
            "Converted Recreation Games for Children's...... School level⧸ HARISHEDUCATION [mooOEpoQffA].webm to ./Recreation Games for Children's...... School level⧸ HARISHEDUCATION [mooOEpoQffA].mp4\n",
            "Converted Excellent Pe games and activities for physical education teacher and school [u_J5SSybBxE].webm to ./Excellent Pe games and activities for physical education teacher and school [u_J5SSybBxE].mp4\n",
            "Converted Sports Song ｜ Do You Like Sports？ ｜ Fun Kids English [WCYTlVF-djw].webm to ./Sports Song ｜ Do You Like Sports？ ｜ Fun Kids English [WCYTlVF-djw].mp4\n",
            "Converted The cheapest item from Chanel #shorts #chanel #unboxing [11azBjKcXzM].webm to ./The cheapest item from Chanel #shorts #chanel #unboxing [11azBjKcXzM].mp4\n",
            "Converted Sports vocabulary real videos [JUpxmE1MuQQ].webm to ./Sports vocabulary real videos [JUpxmE1MuQQ].mp4\n",
            "Converted Wait for the type test! #keyboard #logitech #asmr #unboxing [JASUVK064r4].webm to ./Wait for the type test! #keyboard #logitech #asmr #unboxing [JASUVK064r4].mp4\n",
            "Converted Unboxing a blue HomePod Mini 🦋🐟🚙🐬🥏🧢 #apple #homepodmini #speaker #siri [zqxBE0Z7QaU].webm to ./Unboxing a blue HomePod Mini 🦋🐟🚙🐬🥏🧢 #apple #homepodmini #speaker #siri [zqxBE0Z7QaU].mp4\n",
            "Converted ASMR ｜ Unboxing First Order From Alibaba [Y-0r3B0_U4A].webm to ./ASMR ｜ Unboxing First Order From Alibaba [Y-0r3B0_U4A].mp4\n",
            "Analysis report saved to video_analysis_report.csv\n"
          ]
        }
      ]
    },
    {
      "cell_type": "code",
      "source": [
        "!zip dataset_sv.zip *.mp4"
      ],
      "metadata": {
        "colab": {
          "base_uri": "https://localhost:8080/"
        },
        "id": "WgVjM_A1NhVr",
        "outputId": "30ac6818-ebe6-4508-e7c4-f207b14ca744"
      },
      "execution_count": 37,
      "outputs": [
        {
          "output_type": "stream",
          "name": "stdout",
          "text": [
            "  adding: Amazing Sports activities on Cruise Ship ｜ Don't Miss ｜ Cordelia Cruises [sxUj4uMNu8g].mp4 (deflated 0%)\n",
            "  adding: Apple Studio Display + M2 Mac mini & accessories! Unboxing ASMR [Faa2szY337M].mp4 (deflated 0%)\n",
            "  adding: asmr ⧸ Stationery pal unboxing [jLniS38GFy8].mp4 (deflated 0%)\n",
            "  adding: ASMR ｜ Unboxing First Order From Alibaba [Y-0r3B0_U4A].mp4 (deflated 0%)\n",
            "  adding: BRATZ Mini Makeup Unboxing Satisfying Video ASMR! #shorts #asmr [V-wRuNZEfWs].mp4 (deflated 0%)\n",
            "  adding: Enjoying outdoors 🌳 #tennessee #outdoor #nature [PchDOqEG6xo].mp4 (deflated 0%)\n",
            "  adding: Excellent Pe games and activities for physical education teacher and school [u_J5SSybBxE].mp4 (deflated 0%)\n",
            "  adding: Games Ideas for Students ｜｜ games for School sports day ｜｜ The wisdom school [jh_ACOy_3Fc].mp4 (deflated 3%)\n",
            "  adding: How playing sports benefits your body ... and your brain - Leah Lagos and Jaspal Ricky Singh [hmFQqjMF_f0].mp4 (deflated 0%)\n",
            "  adding: I Bought a PLAYSTATION 5 From Temu For $20… #shorts #temu #unboxing #ps5 [vzH-Ighyxuk].mp4 (deflated 0%)\n",
            "  adding: Luxury Packaging for your small business #productpackaging #smallbusinesstips [-k3vOThKKJM].mp4 (deflated 2%)\n",
            "  adding: MacBook Pro 13” Unboxing 🤍 #unboxing #apple #macbook #asmr #aesthetic [1Ni_5PG4S9w].mp4 (deflated 0%)\n",
            "  adding: Meesho product #unboxing #link for comment [9KvAlI_XePE].mp4 (deflated 0%)\n",
            "  adding: 🇭🇹NEW  NATIONAL RECORD🇭🇹- 19.17m (62’9”) - 16lbs Shotput [katrwpAF4Kk].mp4 (deflated 0%)\n",
            "  adding: No equipment Pe Games for primary school ｜ Fun physical education games [e_-PIeMNdvU].mp4 (deflated 0%)\n",
            "  adding: Packing my mini bag with mini products! #asmr #packingessentials #ulta #packingwithme [1djcQeAAhro].mp4 (deflated 1%)\n",
            "  adding: Recreational Games for School ｜ School Games ｜ School Fun Games ｜ Physical Education Class [9zG8ATPLuTM].mp4 (deflated 1%)\n",
            "  adding: Recreation Games for Children's...... School level⧸ HARISHEDUCATION [mooOEpoQffA].mp4 (deflated 0%)\n",
            "  adding: Sports & Activities ｜ A Conversation about Interests [ZXnHE1tZQjo].mp4 (deflated 4%)\n",
            "  adding: Sports and Activities - الرياضات والنشاطات ｜ we can 5 وي كان [XPo-UkZCDMY].mp4 (deflated 4%)\n",
            "  adding: Sports Song ｜ Do You Like Sports？ ｜ Fun Kids English [WCYTlVF-djw].mp4 (deflated 0%)\n",
            "  adding: Sports Song   Educational Children Song   Learning English Sports for Kids [27f0QUUScQ8].mp4 (deflated 1%)\n",
            "  adding: Sports vocabulary real videos [JUpxmE1MuQQ].mp4 (deflated 0%)\n",
            "  adding: The cheapest item from Chanel #shorts #chanel #unboxing [11azBjKcXzM].mp4 (deflated 1%)\n",
            "  adding: UBGoregaon Sports Day 2014-15 Sr.Kg. A - Obstacle Race [ejwItt1rNek].mp4 (deflated 0%)\n",
            "  adding: Unboxing a blue HomePod Mini 🦋🐟🚙🐬🥏🧢 #apple #homepodmini #speaker #siri [zqxBE0Z7QaU].mp4 (deflated 0%)\n",
            "  adding: Unboxing Cololight B-roll 4K ｜ Sony A7III [vL1k-qb4RbE].mp4 (deflated 0%)\n",
            "  adding: unboxing the first samples of my product! 👀 #shorts [z5xDl67_Kmc].mp4 (deflated 0%)\n",
            "  adding: Wait for the type test! #keyboard #logitech #asmr #unboxing [JASUVK064r4].mp4 (deflated 0%)\n"
          ]
        }
      ]
    }
  ]
}